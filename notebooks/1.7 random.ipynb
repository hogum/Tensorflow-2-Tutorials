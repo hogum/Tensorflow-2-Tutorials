{
 "cells": [
  {
   "cell_type": "markdown",
   "metadata": {},
   "source": [
    "## Random Values in Tensors"
   ]
  },
  {
   "cell_type": "code",
   "execution_count": 2,
   "metadata": {},
   "outputs": [],
   "source": [
    "import tensorflow as tf"
   ]
  },
  {
   "cell_type": "markdown",
   "metadata": {},
   "source": [
    "#### a) Normal distribution"
   ]
  },
  {
   "cell_type": "code",
   "execution_count": null,
   "metadata": {},
   "outputs": [],
   "source": [
    "# random_normal method signature\n",
    "# tf. random.normal(shape, mean = 0, stddev =2, dtype=tf.float32, seed=None, name=None)"
   ]
  },
  {
   "cell_type": "code",
   "execution_count": 2,
   "metadata": {},
   "outputs": [
    {
     "data": {
      "text/plain": [
       "<tf.Tensor: id=5, shape=(6, 5), dtype=float32, numpy=\n",
       "array([[-0.02405767, -0.19439186, -1.2731396 , -1.0606115 ,  0.03964252],\n",
       "       [-2.0946667 , -0.8705545 , -0.25204065,  1.1264561 ,  0.27910334],\n",
       "       [ 0.6033117 , -0.96702445, -0.2489363 , -0.3398405 , -0.95675874],\n",
       "       [ 0.77230096, -0.19921932, -0.4895777 ,  0.48781127, -1.6763492 ],\n",
       "       [-0.84879935,  1.6671357 , -0.993731  ,  0.65883124,  1.1263149 ],\n",
       "       [-1.3980536 ,  0.62439394, -1.0402675 ,  0.416851  , -0.5588937 ]],\n",
       "      dtype=float32)>"
      ]
     },
     "execution_count": 2,
     "metadata": {},
     "output_type": "execute_result"
    }
   ],
   "source": [
    "tf.random.normal(shape=(6, 5))"
   ]
  },
  {
   "cell_type": "code",
   "execution_count": 9,
   "metadata": {},
   "outputs": [
    {
     "data": {
      "text/plain": [
       "<tf.Tensor: id=39, shape=(2, 4), dtype=float32, numpy=\n",
       "array([[13.534141 ,  8.340326 ,  4.4566545, 10.289266 ],\n",
       "       [ 4.7821364, 11.281537 ,  7.530502 ,  6.3387117]], dtype=float32)>"
      ]
     },
     "execution_count": 9,
     "metadata": {},
     "output_type": "execute_result"
    }
   ],
   "source": [
    "tf.random.normal(shape=(2, 4), mean=8, stddev=3.2)"
   ]
  },
  {
   "cell_type": "markdown",
   "metadata": {},
   "source": [
    "### b) Uniform Distribution"
   ]
  },
  {
   "cell_type": "code",
   "execution_count": 10,
   "metadata": {},
   "outputs": [],
   "source": [
    "# random_uniform Method signature\n",
    "\n",
    "# tf.random.uniform(shape, minval = 0, maxval= None, dtype=tf.float32, seed=None,  name=None)"
   ]
  },
  {
   "cell_type": "code",
   "execution_count": 11,
   "metadata": {},
   "outputs": [
    {
     "data": {
      "text/plain": [
       "<tf.Tensor: id=47, shape=(4, 2), dtype=float32, numpy=\n",
       "array([[0.05324423, 0.601568  ],\n",
       "       [0.8631375 , 0.5368165 ],\n",
       "       [0.5074129 , 0.989975  ],\n",
       "       [0.47089398, 0.03002656]], dtype=float32)>"
      ]
     },
     "execution_count": 11,
     "metadata": {},
     "output_type": "execute_result"
    }
   ],
   "source": [
    "tf.random.uniform(shape=(4, 2))"
   ]
  },
  {
   "cell_type": "code",
   "execution_count": 19,
   "metadata": {},
   "outputs": [
    {
     "data": {
      "text/plain": [
       "<tf.Tensor: id=103, shape=(3, 3), dtype=float32, numpy=\n",
       "array([[0.8456671, 9.556121 , 5.9912586],\n",
       "       [2.2567463, 4.7012606, 9.8211565],\n",
       "       [4.3512306, 9.002699 , 5.678537 ]], dtype=float32)>"
      ]
     },
     "execution_count": 19,
     "metadata": {},
     "output_type": "execute_result"
    }
   ],
   "source": [
    "tf.random.uniform(shape=(3, 3), minval = 0, maxval= 10, seed=30)"
   ]
  },
  {
   "cell_type": "markdown",
   "metadata": {},
   "source": [
    "\n",
    "#### c) Seeding\n"
   ]
  },
  {
   "cell_type": "raw",
   "metadata": {},
   "source": [
    "\n",
    "Seeding allows us to get the same values from random operations"
   ]
  },
  {
   "cell_type": "code",
   "execution_count": 24,
   "metadata": {},
   "outputs": [],
   "source": [
    "tf.random.set_seed(2)"
   ]
  },
  {
   "cell_type": "code",
   "execution_count": 25,
   "metadata": {},
   "outputs": [],
   "source": [
    "a = tf.random.uniform(shape=(3, 3), minval = 0, maxval= 10,dtype=tf.int32)\n",
    "b = tf.random.uniform(shape=(3, 3), minval = 0, maxval= 10,dtype=tf.int32)"
   ]
  },
  {
   "cell_type": "code",
   "execution_count": 27,
   "metadata": {},
   "outputs": [
    {
     "name": "stdout",
     "output_type": "stream",
     "text": [
      "a: [[1 6 2]\n",
      " [7 3 6]\n",
      " [7 5 1]]\n",
      "\n",
      "b: [[3 9 2]\n",
      " [8 6 1]\n",
      " [0 1 4]]\n"
     ]
    }
   ],
   "source": [
    "print(f\"a: {a}\\n\")\n",
    "print(f'b: {b}')"
   ]
  },
  {
   "cell_type": "code",
   "execution_count": 29,
   "metadata": {},
   "outputs": [],
   "source": [
    "# Seed with same value (2)\n",
    "\n",
    "tf.random.set_seed(2)"
   ]
  },
  {
   "cell_type": "code",
   "execution_count": 30,
   "metadata": {},
   "outputs": [],
   "source": [
    "a1 = tf.random.uniform(shape=(3, 3), minval = 0, maxval= 10,dtype=tf.int32)\n",
    "b1 = tf.random.uniform(shape=(3, 3), minval = 0, maxval= 10,dtype=tf.int32)"
   ]
  },
  {
   "cell_type": "code",
   "execution_count": 31,
   "metadata": {},
   "outputs": [
    {
     "name": "stdout",
     "output_type": "stream",
     "text": [
      "a1: [[1 6 2]\n",
      " [7 3 6]\n",
      " [7 5 1]]\n",
      "\n",
      "b1: [[3 9 2]\n",
      " [8 6 1]\n",
      " [0 1 4]]\n"
     ]
    }
   ],
   "source": [
    "print(f\"a1: {a1}\\n\")\n",
    "print(f'b1: {b1}')"
   ]
  }
 ],
 "metadata": {
  "kernelspec": {
   "display_name": "Python 3",
   "language": "python",
   "name": "python3"
  },
  "language_info": {
   "codemirror_mode": {
    "name": "ipython",
    "version": 3
   },
   "file_extension": ".py",
   "mimetype": "text/x-python",
   "name": "python",
   "nbconvert_exporter": "python",
   "pygments_lexer": "ipython3",
   "version": "3.7.4"
  }
 },
 "nbformat": 4,
 "nbformat_minor": 2
}
