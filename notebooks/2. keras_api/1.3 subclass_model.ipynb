{
 "cells": [
  {
   "cell_type": "markdown",
   "metadata": {},
   "source": [
    "# Subclassing the Model Class"
   ]
  },
  {
   "cell_type": "code",
   "execution_count": 29,
   "metadata": {},
   "outputs": [],
   "source": [
    "import tensorflow as tf"
   ]
  },
  {
   "cell_type": "code",
   "execution_count": 70,
   "metadata": {},
   "outputs": [],
   "source": [
    "mnist = tf.keras.datasets.mnist\n"
   ]
  },
  {
   "cell_type": "markdown",
   "metadata": {},
   "source": [
    "We first declare and name individual layers in the constructor"
   ]
  },
  {
   "cell_type": "code",
   "execution_count": 105,
   "metadata": {},
   "outputs": [],
   "source": [
    "class MyModel(tf.keras.Model):\n",
    "    def __init__(self):\n",
    "        super(MyModel, self).__init__()\n",
    "        \n",
    "        inputs = tf.keras.Input(shape=(28, 28, 1))\n",
    "\n",
    "        self.x0 = tf.keras.layers.Conv2D(filters=32,\n",
    "                           kernel_size=5,\n",
    "                           activation='relu',\n",
    "                           input_shape=(28, 28, 1))\n",
    "        self.x1 = tf.keras.layers.MaxPool2D()\n",
    "        self.x2 = tf.keras.layers.Dropout(0.4)\n",
    "\n",
    "        self.x3 = tf.keras.layers.Conv2D(filters=64,\n",
    "                                   kernel_size=5,\n",
    "                                   activation='relu')\n",
    "        self.x4 = tf.keras.layers.MaxPool2D()\n",
    "        self.x5 = tf.keras.layers.Dropout(0.4)\n",
    "\n",
    "        self.x6 = tf.keras.layers.Flatten()\n",
    "        self.x7 = tf.keras.layers.Dropout(0.4)\n",
    "        \n",
    "        self.output_pred = tf.keras.layers.Dense(10,\n",
    "                                            activation='softmax')\n",
    "    def call(self, inputs):\n",
    "        x = self.x0(inputs)\n",
    "        # Loop through each of the 8 layers\n",
    "        for i in range(1, 8): \n",
    "            x = getattr(self, f'x{i}')(x)\n",
    "\n",
    "        return self.output_pred(x)  "
   ]
  },
  {
   "cell_type": "markdown",
   "metadata": {},
   "source": [
    "####  Define the forward pass in the `call ` method"
   ]
  },
  {
   "cell_type": "raw",
   "metadata": {},
   "source": [
    "\n",
    "def call(self, inputs):\n",
    "    x = self.x0(inputs)\n",
    "    # Loop through each of the 8 layers\n",
    "    for i in range(1, 8): \n",
    "        x = getattr(self, f'x{i}')(x)\n",
    "            \n",
    "    return self.output_pred(x)    "
   ]
  },
  {
   "cell_type": "raw",
   "metadata": {},
   "source": [
    "# We made use of the loop and `getattr`to simplify the calling of each layer\n",
    "# This is what we could have manually done:\n",
    "\n",
    "x = self.x0(inputs)\n",
    "x = self.x1(x)\n",
    "x = self.x2(x)\n",
    ".\n",
    ".\n",
    ".\n",
    "x = self.x7(x)"
   ]
  },
  {
   "cell_type": "markdown",
   "metadata": {},
   "source": [
    "\n",
    "\n",
    " #### Load the training data\n"
   ]
  },
  {
   "cell_type": "code",
   "execution_count": 82,
   "metadata": {},
   "outputs": [],
   "source": [
    "mnist_data = mnist.load_data()\n",
    "(x_train, y_train), (x_test, y_test) = mnist_data"
   ]
  },
  {
   "cell_type": "code",
   "execution_count": 83,
   "metadata": {},
   "outputs": [],
   "source": [
    "x_train, x_test = tf.cast(x_train/255., dtype=tf.float32), tf.cast(x_test/255., dtype=tf.float32)\n",
    "y_train, y_test = tf.cast(y_train, dtype=tf.int64), tf.cast(y_test, dtype=tf.int64)\n"
   ]
  },
  {
   "cell_type": "code",
   "execution_count": 84,
   "metadata": {},
   "outputs": [],
   "source": [
    "# Expand input dimesion\n",
    "\n",
    "x_train = tf.reshape(x_train, [x_train.numpy().shape[0], 28, 28, 1])\n",
    "x_test = tf.reshape(x_test, [x_test.numpy().shape[0], 28, 28, 1])"
   ]
  },
  {
   "cell_type": "markdown",
   "metadata": {},
   "source": [
    "\n",
    "### Build and compile the model"
   ]
  },
  {
   "cell_type": "code",
   "execution_count": 102,
   "metadata": {},
   "outputs": [],
   "source": [
    "model = MyModel()"
   ]
  },
  {
   "cell_type": "code",
   "execution_count": 103,
   "metadata": {},
   "outputs": [],
   "source": [
    "model.compile(optimizer=tf.keras.optimizers.Adam(),\n",
    "             loss='sparse_categorical_crossentropy',\n",
    "             metrics=['accuracy'])"
   ]
  },
  {
   "cell_type": "code",
   "execution_count": 104,
   "metadata": {},
   "outputs": [
    {
     "name": "stdout",
     "output_type": "stream",
     "text": [
      "1\n",
      "2\n",
      "3\n",
      "4\n",
      "5\n",
      "6\n",
      "7\n"
     ]
    },
    {
     "name": "stderr",
     "output_type": "stream",
     "text": [
      "WARNING: Logging before flag parsing goes to stderr.\n",
      "W0813 16:17:13.631650 140462407554880 deprecation.py:323] From /root/.virtualenvs/tfs/lib/python3.7/site-packages/tensorflow/python/ops/math_grad.py:1250: add_dispatch_support.<locals>.wrapper (from tensorflow.python.ops.array_ops) is deprecated and will be removed in a future version.\n",
      "Instructions for updating:\n",
      "Use tf.where in 2.0, which has the same broadcast rule as np.where\n"
     ]
    },
    {
     "name": "stdout",
     "output_type": "stream",
     "text": [
      "Train on 60000 samples\n",
      "Epoch 1/20\n",
      "60000/60000 [==============================] - 53s 887us/sample - loss: 0.4029 - accuracy: 0.8719\n",
      "Epoch 2/20\n",
      "60000/60000 [==============================] - 48s 800us/sample - loss: 0.1337 - accuracy: 0.9591\n",
      "Epoch 3/20\n",
      "60000/60000 [==============================] - 47s 786us/sample - loss: 0.0994 - accuracy: 0.9696\n",
      "Epoch 4/20\n",
      "60000/60000 [==============================] - 48s 797us/sample - loss: 0.0865 - accuracy: 0.9737\n",
      "Epoch 5/20\n",
      "60000/60000 [==============================] - 48s 795us/sample - loss: 0.0755 - accuracy: 0.9768\n",
      "Epoch 6/20\n",
      "60000/60000 [==============================] - 48s 797us/sample - loss: 0.0689 - accuracy: 0.9786\n",
      "Epoch 7/20\n",
      "60000/60000 [==============================] - 47s 785us/sample - loss: 0.0636 - accuracy: 0.9805\n",
      "Epoch 8/20\n",
      "60000/60000 [==============================] - 47s 783us/sample - loss: 0.0573 - accuracy: 0.9821\n",
      "Epoch 9/20\n",
      "60000/60000 [==============================] - 47s 788us/sample - loss: 0.0559 - accuracy: 0.9821\n",
      "Epoch 10/20\n",
      "60000/60000 [==============================] - 47s 785us/sample - loss: 0.0529 - accuracy: 0.9834\n",
      "Epoch 11/20\n",
      "60000/60000 [==============================] - 48s 792us/sample - loss: 0.0520 - accuracy: 0.9838\n",
      "Epoch 12/20\n",
      "60000/60000 [==============================] - 48s 795us/sample - loss: 0.0495 - accuracy: 0.9847\n",
      "Epoch 13/20\n",
      "60000/60000 [==============================] - 49s 817us/sample - loss: 0.0469 - accuracy: 0.9852\n",
      "Epoch 14/20\n",
      "60000/60000 [==============================] - 48s 804us/sample - loss: 0.0455 - accuracy: 0.9858\n",
      "Epoch 15/20\n",
      "60000/60000 [==============================] - 48s 795us/sample - loss: 0.0442 - accuracy: 0.9859\n",
      "Epoch 16/20\n",
      "60000/60000 [==============================] - 47s 791us/sample - loss: 0.0425 - accuracy: 0.9866\n",
      "Epoch 17/20\n",
      "60000/60000 [==============================] - 48s 801us/sample - loss: 0.0431 - accuracy: 0.9862\n",
      "Epoch 18/20\n",
      "60000/60000 [==============================] - 48s 792us/sample - loss: 0.0408 - accuracy: 0.9866\n",
      "Epoch 19/20\n",
      "60000/60000 [==============================] - 48s 796us/sample - loss: 0.0417 - accuracy: 0.9865\n",
      "Epoch 20/20\n",
      "60000/60000 [==============================] - 48s 796us/sample - loss: 0.0410 - accuracy: 0.9867\n"
     ]
    },
    {
     "data": {
      "text/plain": [
       "<tensorflow.python.keras.callbacks.History at 0x7fbfb3814b50>"
      ]
     },
     "execution_count": 104,
     "metadata": {},
     "output_type": "execute_result"
    }
   ],
   "source": [
    "model.fit(x_train, y_train, batch_size=128, epochs=20)"
   ]
  },
  {
   "cell_type": "code",
   "execution_count": 106,
   "metadata": {},
   "outputs": [
    {
     "name": "stdout",
     "output_type": "stream",
     "text": [
      "10000/10000 [==============================] - 3s 259us/sample - loss: 0.0195 - accuracy: 0.9935\n"
     ]
    },
    {
     "data": {
      "text/plain": [
       "[0.01953036632850417, 0.9935]"
      ]
     },
     "execution_count": 106,
     "metadata": {},
     "output_type": "execute_result"
    }
   ],
   "source": [
    "model.evaluate(x_test, y_test)"
   ]
  }
 ],
 "metadata": {
  "kernelspec": {
   "display_name": "tfs",
   "language": "python",
   "name": "tfs"
  },
  "language_info": {
   "codemirror_mode": {
    "name": "ipython",
    "version": 3
   },
   "file_extension": ".py",
   "mimetype": "text/x-python",
   "name": "python",
   "nbconvert_exporter": "python",
   "pygments_lexer": "ipython3",
   "version": "3.7.4"
  }
 },
 "nbformat": 4,
 "nbformat_minor": 2
}
