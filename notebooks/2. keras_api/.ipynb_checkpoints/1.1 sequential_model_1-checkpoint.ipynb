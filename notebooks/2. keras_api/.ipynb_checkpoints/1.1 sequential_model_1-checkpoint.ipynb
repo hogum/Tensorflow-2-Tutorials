{
 "cells": [
  {
   "cell_type": "markdown",
   "metadata": {},
   "source": [
    "# Keras Sequential Model"
   ]
  },
  {
   "cell_type": "markdown",
   "metadata": {},
   "source": [
    "### Building a sequential model"
   ]
  },
  {
   "cell_type": "markdown",
   "metadata": {},
   "source": [
    "- To build a sequential model, we stack layers in *sequence*\n",
    "- Layers are added in the order we want computations to occur in the network"
   ]
  },
  {
   "cell_type": "markdown",
   "metadata": {},
   "source": [
    "### Steps to build a sequntial model"
   ]
  },
  {
   "cell_type": "markdown",
   "metadata": {},
   "source": [
    "- [X] **BUILD**: Just add layers in the order you wish\n",
    "- [X] **COMPILE**: Allocate the optimizer and loss function\n",
    "- [X] **FIT**: Train the model. Just means feeding data to the model. It's commonly done in batches\n",
    "- [X] **EVALUATE**: Establish the model loss, accuracy and any other important metrics"
   ]
  },
  {
   "cell_type": "markdown",
   "metadata": {},
   "source": [
    "### Ways to create a Sequential Model"
   ]
  },
  {
   "cell_type": "markdown",
   "metadata": {},
   "source": [
    "- We can do it in two ways! This is so cool"
   ]
  },
  {
   "cell_type": "markdown",
   "metadata": {},
   "source": [
    "## Way 1"
   ]
  },
  {
   "cell_type": "markdown",
   "metadata": {},
   "source": [
    "We are going to use the [MNIST](https://en.wikipedia.org/wiki/MNIST_database) dataset for our sequential model examples"
   ]
  },
  {
   "cell_type": "code",
   "execution_count": 45,
   "metadata": {},
   "outputs": [],
   "source": [
    "import tensorflow as tf\n",
    "import numpy as np"
   ]
  },
  {
   "cell_type": "code",
   "execution_count": 46,
   "metadata": {},
   "outputs": [],
   "source": [
    "mnist = tf.keras.datasets.mnist"
   ]
  },
  {
   "cell_type": "code",
   "execution_count": 103,
   "metadata": {},
   "outputs": [],
   "source": [
    "epochs = 10 # Number of times we feed data to the model\n",
    "batch_size = 64"
   ]
  },
  {
   "cell_type": "code",
   "execution_count": 104,
   "metadata": {},
   "outputs": [
    {
     "name": "stdout",
     "output_type": "stream",
     "text": [
      "(2, 2)\n"
     ]
    }
   ],
   "source": [
    "# Split the data into train and test splits\n",
    "\n",
    "mnist_data = mnist.load_data()\n",
    "(x_train, y_train), (x_test, y_test) = mnist_data\n",
    "\n",
    "print(np.shape(mnist_data))"
   ]
  },
  {
   "cell_type": "markdown",
   "metadata": {},
   "source": [
    "Our next step is to [normalize](https://medium.com/@urvashilluniya/why-data-normalization-is-necessary-for-machine-learning-models-681b65a05029) the data"
   ]
  },
  {
   "cell_type": "code",
   "execution_count": 105,
   "metadata": {},
   "outputs": [],
   "source": [
    "# While we are at it, Let's recast the data too\n",
    "\n",
    "x_train, x_test = tf.cast(x_train/255., dtype=tf.float32), tf.cast(x_test/255., dtype=tf.float32)\n",
    "y_train, y_test = tf.cast(y_train, dtype=tf.int64), tf.cast(y_test, dtype=tf.int64)"
   ]
  },
  {
   "cell_type": "markdown",
   "metadata": {},
   "source": [
    "\n",
    "Step: add layers\n"
   ]
  },
  {
   "cell_type": "code",
   "execution_count": 106,
   "metadata": {},
   "outputs": [],
   "source": [
    "model = tf.keras.models.Sequential([\n",
    "    tf.keras.layers.Flatten(),\n",
    "    tf.keras.layers.Dense(512, activation=tf.nn.relu),\n",
    "    tf.keras.layers.Dropout(0.2),\n",
    "    tf.keras.layers.Dense(10, activation=tf.nn.softmax)\n",
    "])"
   ]
  },
  {
   "cell_type": "markdown",
   "metadata": {},
   "source": [
    "#### *What each layer does to our model*\n",
    "\n",
    "- **Flatten**: reduce the input (mnist image is 28 * 28) to a 1D vector (mnist -> 784)\n",
    "\n",
    "- **Dense 1**: A fully connected layer with 512 neurons. The activation function introduces non-linearlity which enables the model detect complex features\n",
    "\n",
    "- **Dropout**: Randomly drop some nodes(set 2/10 of the inputs to zero.) during each epoch. This Prevents overfitting\n",
    "- **Dense 2**: The output layer.\n",
    "The 10 units represent the 10 digits [0 - 9]. The softmax activation function gives the output as a probability (0-1) of being one of the 10 digits"
   ]
  },
  {
   "cell_type": "markdown",
   "metadata": {},
   "source": [
    "\n",
    "Step 2: Build\n"
   ]
  },
  {
   "cell_type": "code",
   "execution_count": 107,
   "metadata": {},
   "outputs": [],
   "source": [
    "# model.build(input_shape=(28 * 28,))"
   ]
  },
  {
   "cell_type": "markdown",
   "metadata": {},
   "source": [
    "Step 3: Build and Compile"
   ]
  },
  {
   "cell_type": "markdown",
   "metadata": {},
   "source": [
    "Here, we optimize:\n",
    "- Optimizing means adjusting the model weights to establish a function that maps the input (images) to outputs (labels)\n",
    "\n",
    "The aim is to reduce the `loss`.\n",
    "- Loss is the difference between the predicted output and the actual output.\n",
    "\n",
    "We use the `accuracy` for evaluation.\n",
    "- To establish the ratio between our correct predictions to all the predictions we shall make."
   ]
  },
  {
   "cell_type": "code",
   "execution_count": 108,
   "metadata": {},
   "outputs": [],
   "source": [
    "adam_optimizer = tf.keras.optimizers.Adam()\n",
    "model.compile(optimizer=adam_optimizer, loss='sparse_categorical_crossentropy',\n",
    "             metrics=['accuracy'])"
   ]
  },
  {
   "cell_type": "markdown",
   "metadata": {},
   "source": [
    "Step 4: Fit"
   ]
  },
  {
   "cell_type": "code",
   "execution_count": 109,
   "metadata": {},
   "outputs": [
    {
     "name": "stdout",
     "output_type": "stream",
     "text": [
      "Train on 60000 samples\n",
      "Epoch 1/10\n",
      "60000/60000 [==============================] - 7s 109us/sample - loss: 0.2458 - accuracy: 0.9284\n",
      "Epoch 2/10\n",
      "60000/60000 [==============================] - 6s 103us/sample - loss: 0.1047 - accuracy: 0.9686\n",
      "Epoch 3/10\n",
      "60000/60000 [==============================] - 6s 105us/sample - loss: 0.0717 - accuracy: 0.9786\n",
      "Epoch 4/10\n",
      "60000/60000 [==============================] - 6s 94us/sample - loss: 0.0565 - accuracy: 0.9822\n",
      "Epoch 5/10\n",
      "60000/60000 [==============================] - 6s 95us/sample - loss: 0.0438 - accuracy: 0.9857\n",
      "Epoch 6/10\n",
      "60000/60000 [==============================] - 6s 93us/sample - loss: 0.0363 - accuracy: 0.9878\n",
      "Epoch 7/10\n",
      "60000/60000 [==============================] - 6s 93us/sample - loss: 0.0304 - accuracy: 0.9901\n",
      "Epoch 8/10\n",
      "60000/60000 [==============================] - 6s 92us/sample - loss: 0.0240 - accuracy: 0.9924\n",
      "Epoch 9/10\n",
      "60000/60000 [==============================] - 5s 90us/sample - loss: 0.0246 - accuracy: 0.9919\n",
      "Epoch 10/10\n",
      "60000/60000 [==============================] - 5s 90us/sample - loss: 0.0196 - accuracy: 0.9934\n"
     ]
    },
    {
     "data": {
      "text/plain": [
       "<tensorflow.python.keras.callbacks.History at 0x7f6af212d690>"
      ]
     },
     "execution_count": 109,
     "metadata": {},
     "output_type": "execute_result"
    }
   ],
   "source": [
    "model.fit(x_train, y_train, batch_size=batch_size, epochs=epochs)"
   ]
  },
  {
   "cell_type": "code",
   "execution_count": 110,
   "metadata": {},
   "outputs": [
    {
     "name": "stdout",
     "output_type": "stream",
     "text": [
      "Model: \"sequential_9\"\n",
      "_________________________________________________________________\n",
      "Layer (type)                 Output Shape              Param #   \n",
      "=================================================================\n",
      "flatten_10 (Flatten)         multiple                  0         \n",
      "_________________________________________________________________\n",
      "dense_19 (Dense)             multiple                  401920    \n",
      "_________________________________________________________________\n",
      "dropout_9 (Dropout)          multiple                  0         \n",
      "_________________________________________________________________\n",
      "dense_20 (Dense)             multiple                  5130      \n",
      "=================================================================\n",
      "Total params: 407,050\n",
      "Trainable params: 407,050\n",
      "Non-trainable params: 0\n",
      "_________________________________________________________________\n"
     ]
    }
   ],
   "source": [
    "# Have a look at the model summary \n",
    "model.summary()"
   ]
  },
  {
   "cell_type": "markdown",
   "metadata": {},
   "source": [
    "Step 5: Evaluate against the test data"
   ]
  },
  {
   "cell_type": "code",
   "execution_count": 113,
   "metadata": {},
   "outputs": [
    {
     "name": "stdout",
     "output_type": "stream",
     "text": [
      "10000/10000 [==============================] - 1s 66us/sample - loss: 0.0657 - accuracy: 0.9807\n"
     ]
    },
    {
     "data": {
      "text/plain": [
       "[0.06573594110448758, 0.9807]"
      ]
     },
     "execution_count": 113,
     "metadata": {},
     "output_type": "execute_result"
    }
   ],
   "source": [
    "model.evaluate(x_test, y_test)"
   ]
  }
 ],
 "metadata": {
  "kernelspec": {
   "display_name": "tfs",
   "language": "python",
   "name": "tfs"
  },
  "language_info": {
   "codemirror_mode": {
    "name": "ipython",
    "version": 3
   },
   "file_extension": ".py",
   "mimetype": "text/x-python",
   "name": "python",
   "nbconvert_exporter": "python",
   "pygments_lexer": "ipython3",
   "version": "3.7.4"
  }
 },
 "nbformat": 4,
 "nbformat_minor": 2
}
