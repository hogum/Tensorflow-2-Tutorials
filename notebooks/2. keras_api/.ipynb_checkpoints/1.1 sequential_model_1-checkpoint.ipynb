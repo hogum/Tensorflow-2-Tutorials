{
 "cells": [
  {
   "cell_type": "markdown",
   "metadata": {},
   "source": [
    "# Keras Sequential Model"
   ]
  },
  {
   "cell_type": "markdown",
   "metadata": {},
   "source": [
    "### Building a sequential model"
   ]
  },
  {
   "cell_type": "markdown",
   "metadata": {},
   "source": [
    "- To build a sequential model, we stack layers in *sequence*\n",
    "- Layers are added in the order we want computations to occur in the network"
   ]
  },
  {
   "cell_type": "markdown",
   "metadata": {},
   "source": [
    "### Steps to build a sequntial model"
   ]
  },
  {
   "cell_type": "markdown",
   "metadata": {},
   "source": [
    "- [X] **BUILD**: Just add layers in the order you wish\n",
    "- [X] **COMPILE**: Allocate the optimizer and loss function\n",
    "- [X] **FIT**: Train the model. Just means feeding data to the model. It's commonly done in batches\n",
    "- [X] **EVALUATE**: Establish the model loss, accuracy and any other important metrics"
   ]
  },
  {
   "cell_type": "markdown",
   "metadata": {},
   "source": [
    "### Ways to create a Sequential Model"
   ]
  },
  {
   "cell_type": "markdown",
   "metadata": {},
   "source": [
    "- We can do it in two ways! This is so cool"
   ]
  },
  {
   "cell_type": "markdown",
   "metadata": {},
   "source": [
    "## Way 1"
   ]
  },
  {
   "cell_type": "markdown",
   "metadata": {},
   "source": [
    "We are going to use the [MNIST](https://en.wikipedia.org/wiki/MNIST_database) dataset for our sequential model examples"
   ]
  },
  {
   "cell_type": "code",
   "execution_count": 45,
   "metadata": {},
   "outputs": [],
   "source": [
    "import tensorflow as tf\n",
    "import numpy as np"
   ]
  },
  {
   "cell_type": "code",
   "execution_count": 46,
   "metadata": {},
   "outputs": [],
   "source": [
    "mnist = tf.keras.datasets.mnist"
   ]
  },
  {
   "cell_type": "code",
   "execution_count": 47,
   "metadata": {},
   "outputs": [],
   "source": [
    "epochs = 20 # NUmber of times we feed data to the model\n",
    "batch_size = 64"
   ]
  },
  {
   "cell_type": "code",
   "execution_count": 48,
   "metadata": {},
   "outputs": [
    {
     "name": "stdout",
     "output_type": "stream",
     "text": [
      "(2, 2)\n"
     ]
    }
   ],
   "source": [
    "# Split the data into train and test splits\n",
    "\n",
    "mnist_data = mnist.load_data()\n",
    "(x_train, y_train), (x_test, y_test) = mnist_data\n",
    "\n",
    "print(np.shape(mnist_data))"
   ]
  },
  {
   "cell_type": "markdown",
   "metadata": {},
   "source": [
    "Our next step is to [normalize](https://medium.com/@urvashilluniya/why-data-normalization-is-necessary-for-machine-learning-models-681b65a05029) the data"
   ]
  },
  {
   "cell_type": "code",
   "execution_count": 57,
   "metadata": {},
   "outputs": [],
   "source": [
    "# While we are at it, Let's recast the data too\n",
    "\n",
    "x_train, x_test = tf.cast(x_train/255., dtype=tf.float32), tf.cast(x_test/255., dtype=tf.float32)\n",
    "y_train, y_test = tf.cast(y_train, dtype=tf.int64), tf.cast(y_test, dtype=tf.int64)"
   ]
  },
  {
   "cell_type": "markdown",
   "metadata": {},
   "source": [
    "\n",
    "Step: add layers\n"
   ]
  },
  {
   "cell_type": "code",
   "execution_count": 73,
   "metadata": {},
   "outputs": [],
   "source": [
    "model = tf.keras.models.Sequential([\n",
    "    tf.keras.layers.Flatten(),\n",
    "    tf.keras.layers.Dense(512, activation=tf.nn.relu),\n",
    "    tf.keras.layers.Dropout(0.2),\n",
    "    tf.keras.layers.Dense(10, activation=tf.nn.softmax)\n",
    "])"
   ]
  },
  {
   "cell_type": "markdown",
   "metadata": {},
   "source": [
    "#### *What each layer does to our model*\n",
    "\n",
    "- **Flatten**: reduce the input (mnist image is 28 * 28) to a 1D vector (mnist -> 784)\n",
    "\n",
    "- **Dense 1**: A fully connected layer with 512 neurons. The activation function introduces non-linearlity which enables the model detect complex features\n",
    "\n",
    "- **Dropout**: Randomly drop some nodes(set 2/10 of the inputs to zero.) during each epoch. This Prevents overfitting\n",
    "- **Dense 2**: The output layer.\n",
    "The 10 units represent the 10 digits [0 - 9]. The softmax activation function gives the output as a probability (0-1) of being one of the 10 digits"
   ]
  },
  {
   "cell_type": "markdown",
   "metadata": {},
   "source": [
    "\n",
    "Step 2: Build\n"
   ]
  },
  {
   "cell_type": "code",
   "execution_count": 74,
   "metadata": {},
   "outputs": [],
   "source": [
    "# model.build(input_shape=(28 * 28,))"
   ]
  },
  {
   "cell_type": "markdown",
   "metadata": {},
   "source": [
    "Step 3: Build and Compile"
   ]
  },
  {
   "cell_type": "markdown",
   "metadata": {},
   "source": [
    "Here, we optimize:\n",
    "- Optimizing means adjusting the model weights to establish a function that maps the input (images) to outputs (labels)\n",
    "\n",
    "The aim is to reduce the `loss`.\n",
    "- Loss is the difference between the predicted output and the actual output.\n",
    "\n",
    "We use the `accuracy` for evaluation.\n",
    "- To establish the ratio between our correct predictions to all the predictions we shall make."
   ]
  },
  {
   "cell_type": "code",
   "execution_count": 79,
   "metadata": {},
   "outputs": [],
   "source": [
    "adam_optimizer = tf.keras.optimizers.Adam()\n",
    "model.compile(optimizer=adam_optimizer, loss='sparse_categorical_crossentropy',\n",
    "             metrics=['accuracy'])"
   ]
  },
  {
   "cell_type": "code",
   "execution_count": 82,
   "metadata": {},
   "outputs": [
    {
     "name": "stdout",
     "output_type": "stream",
     "text": [
      "Model: \"sequential_6\"\n",
      "_________________________________________________________________\n",
      "Layer (type)                 Output Shape              Param #   \n",
      "=================================================================\n",
      "flatten_7 (Flatten)          multiple                  0         \n",
      "_________________________________________________________________\n",
      "dense_13 (Dense)             multiple                  401920    \n",
      "_________________________________________________________________\n",
      "dropout_6 (Dropout)          multiple                  0         \n",
      "_________________________________________________________________\n",
      "dense_14 (Dense)             multiple                  5130      \n",
      "=================================================================\n",
      "Total params: 407,050\n",
      "Trainable params: 407,050\n",
      "Non-trainable params: 0\n",
      "_________________________________________________________________\n"
     ]
    }
   ],
   "source": [
    "# Have a look at the model summary \n",
    "model.summary()"
   ]
  },
  {
   "cell_type": "markdown",
   "metadata": {},
   "source": [
    "Step 4: Fit"
   ]
  },
  {
   "cell_type": "code",
   "execution_count": 80,
   "metadata": {},
   "outputs": [
    {
     "name": "stderr",
     "output_type": "stream",
     "text": [
      "WARNING: Logging before flag parsing goes to stderr.\n",
      "W0812 18:22:43.927800 140098395346752 deprecation.py:323] From /root/.virtualenvs/tfs/lib/python3.7/site-packages/tensorflow/python/ops/math_grad.py:1250: add_dispatch_support.<locals>.wrapper (from tensorflow.python.ops.array_ops) is deprecated and will be removed in a future version.\n",
      "Instructions for updating:\n",
      "Use tf.where in 2.0, which has the same broadcast rule as np.where\n"
     ]
    },
    {
     "name": "stdout",
     "output_type": "stream",
     "text": [
      "Train on 60000 samples\n",
      "Epoch 1/20\n",
      "60000/60000 [==============================] - 9s 142us/sample - loss: 1.1231 - accuracy: 0.7257\n",
      "Epoch 2/20\n",
      "60000/60000 [==============================] - 6s 103us/sample - loss: 0.4576 - accuracy: 0.8758\n",
      "Epoch 3/20\n",
      "60000/60000 [==============================] - 6s 103us/sample - loss: 0.3661 - accuracy: 0.8963\n",
      "Epoch 4/20\n",
      "60000/60000 [==============================] - 6s 104us/sample - loss: 0.3279 - accuracy: 0.9049\n",
      "Epoch 5/20\n",
      "60000/60000 [==============================] - 7s 114us/sample - loss: 0.3023 - accuracy: 0.9131\n",
      "Epoch 6/20\n",
      "60000/60000 [==============================] - 7s 115us/sample - loss: 0.2828 - accuracy: 0.9173\n",
      "Epoch 7/20\n",
      "60000/60000 [==============================] - 7s 115us/sample - loss: 0.2639 - accuracy: 0.9235\n",
      "Epoch 8/20\n",
      "60000/60000 [==============================] - 7s 116us/sample - loss: 0.2489 - accuracy: 0.9273\n",
      "Epoch 9/20\n",
      "60000/60000 [==============================] - 7s 108us/sample - loss: 0.2334 - accuracy: 0.9323\n",
      "Epoch 10/20\n",
      "60000/60000 [==============================] - 7s 109us/sample - loss: 0.2190 - accuracy: 0.9363\n",
      "Epoch 11/20\n",
      "60000/60000 [==============================] - 7s 113us/sample - loss: 0.2075 - accuracy: 0.9406\n",
      "Epoch 12/20\n",
      "60000/60000 [==============================] - 7s 109us/sample - loss: 0.1958 - accuracy: 0.9433\n",
      "Epoch 13/20\n",
      "60000/60000 [==============================] - 7s 109us/sample - loss: 0.1852 - accuracy: 0.9466\n",
      "Epoch 14/20\n",
      "60000/60000 [==============================] - 6s 108us/sample - loss: 0.1743 - accuracy: 0.9504\n",
      "Epoch 15/20\n",
      "60000/60000 [==============================] - 7s 114us/sample - loss: 0.1669 - accuracy: 0.9517\n",
      "Epoch 16/20\n",
      "60000/60000 [==============================] - 7s 113us/sample - loss: 0.1581 - accuracy: 0.9551\n",
      "Epoch 17/20\n",
      "60000/60000 [==============================] - 7s 109us/sample - loss: 0.1515 - accuracy: 0.9564\n",
      "Epoch 18/20\n",
      "60000/60000 [==============================] - 7s 109us/sample - loss: 0.1437 - accuracy: 0.9595\n",
      "Epoch 19/20\n",
      "60000/60000 [==============================] - 7s 110us/sample - loss: 0.1376 - accuracy: 0.9607\n",
      "Epoch 20/20\n",
      "60000/60000 [==============================] - 7s 114us/sample - loss: 0.1319 - accuracy: 0.9623\n"
     ]
    },
    {
     "data": {
      "text/plain": [
       "<tensorflow.python.keras.callbacks.History at 0x7f6af2bdc950>"
      ]
     },
     "execution_count": 80,
     "metadata": {},
     "output_type": "execute_result"
    }
   ],
   "source": [
    "model.fit(x_train, y_train, batch_size=batch_size, epochs=epochs)"
   ]
  }
 ],
 "metadata": {
  "kernelspec": {
   "display_name": "tfs",
   "language": "python",
   "name": "tfs"
  },
  "language_info": {
   "codemirror_mode": {
    "name": "ipython",
    "version": 3
   },
   "file_extension": ".py",
   "mimetype": "text/x-python",
   "name": "python",
   "nbconvert_exporter": "python",
   "pygments_lexer": "ipython3",
   "version": "3.7.4"
  }
 },
 "nbformat": 4,
 "nbformat_minor": 2
}
