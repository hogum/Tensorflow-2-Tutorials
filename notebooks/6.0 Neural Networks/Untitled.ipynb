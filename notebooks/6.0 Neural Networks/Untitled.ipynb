{
 "cells": [
  {
   "cell_type": "markdown",
   "metadata": {},
   "source": [
    "# Image Classification"
   ]
  },
  {
   "cell_type": "markdown",
   "metadata": {},
   "source": [
    "Classification example using the **Quick Draw Dataset**\n",
    "- Download the datasets from [here](https://console.cloud.google.com/storage/browser/quickdraw_dataset/full/numpy_bitmap?pli=1) and place them in the directory `.data`"
   ]
  },
  {
   "cell_type": "code",
   "execution_count": 4,
   "metadata": {},
   "outputs": [],
   "source": [
    "import os\n",
    "\n",
    "import tensorflow as tf\n",
    "import numpy as np\n",
    "from sklearn.model_selection import train_test_split"
   ]
  },
  {
   "cell_type": "markdown",
   "metadata": {},
   "source": [
    "##### Preprocess the dataset"
   ]
  },
  {
   "cell_type": "code",
   "execution_count": 8,
   "metadata": {},
   "outputs": [],
   "source": [
    "data_path = '.data'\n",
    "input_shape = (28, 28, 1)\n",
    "data_files = []\n",
    "\n",
    "\n",
    "for root, dirs, files, in os.walk(data_path):\n",
    "    data_files += [os.path.join(root, name) for name in files]"
   ]
  },
  {
   "cell_type": "code",
   "execution_count": null,
   "metadata": {},
   "outputs": [],
   "source": [
    "n_images = 100000\n",
    "images_per_category = n_images // len(data_files)\n",
    "data, targets = [], []\n",
    "\n",
    "for i, file in enumerate(data_files):\n",
    "    x = np.load(file) / 255.\n",
    "    y = i * x.shape[0]\n",
    "    \n",
    "    x = x[:images_per_category]\n",
    "    y = y[:images_per_category]\n",
    "    \n",
    "\n",
    "    data, targets = np.concatenate([data, x], axis=0), np.concatenate([targets, y], axis=0)\n",
    "\n",
    "\n",
    "# splits\n",
    "x_train, x_test, y_train, y_test = train_test_split(data, target,\n",
    "                                                    train_size=0.75,\n",
    "                                                    random_state=20)\n",
    "x_train, x_valid, y_train, y_valid = train_test_split(x_train, y_train,\n",
    "                                                     train_size=.9,\n",
    "                                                     random_state=20)"
   ]
  },
  {
   "cell_type": "markdown",
   "metadata": {},
   "source": [
    "##### define the model"
   ]
  },
  {
   "cell_type": "code",
   "execution_count": 9,
   "metadata": {},
   "outputs": [],
   "source": [
    "class Model(tf.keras.Model):\n",
    "    def __init__(self):\n",
    "        super(Model, self).__init__()\n",
    "        \n",
    "        inputs = tf.keras.Input(shape=input_shape)\n",
    "        self.x0 = tf.keras.layers.Conv2D(filters=32, kernel_size=3,\n",
    "                                         padding='valid', activation='leaky_relu',\n",
    "                                        input_shape=input_shape)\n",
    "        self.x1 = tf.keras.layers.MaxPool2D()\n",
    "        self.x2 = tf.keras.layers.Dropout(0.4)\n",
    "        \n",
    "        self.x3 = tf.keras.layers.Conv2D(filters=64, kernel_size=3,\n",
    "                                         padding='valid', activation='leaky_relu')\n",
    "        self.x4 = tf.keras.layers.MaxPool2D()\n",
    "        self.x5 = tf.keras.layers.Dropout(0.4)\n",
    "        \n",
    "        self.x6 = tf.keras.layers.Flatten()\n",
    "        self.x7 = tf.keras.layers.Dense(128, activation='leaky_relu')\n",
    "        self.x8 = tf.keras.layers.Dropout(0.2)\n",
    "        \n",
    "        self.output_pred = tf.keras.layers.Dense(len(data_files), activation='softmax')\n",
    "    \n",
    "    def call(self, inputs):\n",
    "        x = self.x0(inputs)\n",
    "        \n",
    "        for i in range(1, 10):\n",
    "            x = getattr(self, f'x{i}')(x)\n",
    "        \n",
    "        return self.output_pred(x)"
   ]
  },
  {
   "cell_type": "markdown",
   "metadata": {},
   "source": [
    "##### train the model"
   ]
  },
  {
   "cell_type": "code",
   "execution_count": null,
   "metadata": {},
   "outputs": [],
   "source": [
    "epochs = 20\n",
    "batch_size = 128\n",
    "save_path = '~/.tensorboard/tf2/1'\n",
    "\n",
    "model = Model()\n",
    "model.compile(loss='categorical_crossentropy',\n",
    "              optimizer='adam',\n",
    "             metrics=['accuracy'])\n",
    "model.fit(x_train, y_train, batch_size=batch_size,\n",
    "         callbacks=[tf.keras.callbacks.TensorBoard(save_path)],\n",
    "         validation_data=(x_valid, y_valid))\n",
    "\n",
    "model.evaluate(x_test, y_test)"
   ]
  }
 ],
 "metadata": {
  "kernelspec": {
   "display_name": "tfs",
   "language": "python",
   "name": "tfs"
  },
  "language_info": {
   "codemirror_mode": {
    "name": "ipython",
    "version": 3
   },
   "file_extension": ".py",
   "mimetype": "text/x-python",
   "name": "python",
   "nbconvert_exporter": "python",
   "pygments_lexer": "ipython3",
   "version": "3.7.4"
  }
 },
 "nbformat": 4,
 "nbformat_minor": 2
}
