{
 "cells": [
  {
   "cell_type": "markdown",
   "metadata": {},
   "source": [
    "# Classification: K Nearest Neighbours"
   ]
  },
  {
   "cell_type": "markdown",
   "metadata": {},
   "source": [
    "#### Classification with Iris Dataset"
   ]
  },
  {
   "cell_type": "markdown",
   "metadata": {},
   "source": [
    "The KNN Classifier labels a data point by observing its distance relative to the points present in the existing dataset"
   ]
  },
  {
   "cell_type": "code",
   "execution_count": 4,
   "metadata": {},
   "outputs": [],
   "source": [
    "import tensorflow as tf\n",
    "import numpy as np\n",
    "from sklearn import datasets"
   ]
  },
  {
   "cell_type": "code",
   "execution_count": 52,
   "metadata": {},
   "outputs": [],
   "source": [
    "k = 3 # No. of clusters"
   ]
  },
  {
   "cell_type": "markdown",
   "metadata": {},
   "source": [
    "#### load and preprocess dataset\n"
   ]
  },
  {
   "cell_type": "code",
   "execution_count": 48,
   "metadata": {},
   "outputs": [],
   "source": [
    "iris = datasets.load_iris()\n",
    "x = iris.data\n",
    "y = iris.target"
   ]
  },
  {
   "cell_type": "code",
   "execution_count": 44,
   "metadata": {},
   "outputs": [
    {
     "data": {
      "text/plain": [
       "(150, 4)"
      ]
     },
     "execution_count": 44,
     "metadata": {},
     "output_type": "execute_result"
    }
   ],
   "source": [
    "x.shape"
   ]
  },
  {
   "cell_type": "code",
   "execution_count": 45,
   "metadata": {},
   "outputs": [],
   "source": [
    "flower_labels = ['iris setosa', 'iris virginica', 'iris versicolor']\n"
   ]
  },
  {
   "cell_type": "code",
   "execution_count": 49,
   "metadata": {},
   "outputs": [],
   "source": [
    "# one hot encoding if labels\n",
    "y_unique = np.unique(y)\n",
    "y  = np.eye(y_unique.size)[y]\n",
    "\n",
    "\n",
    "# Normalize features\n",
    "\n",
    "x_min = x.min(axis=0)\n",
    "x = (x - x_min) / (x.max(axis=0) - x_min)\n",
    "\n",
    "# Split dataset\n",
    "\n",
    "split = .90\n",
    "n_features = x.shape[0]\n",
    "\n",
    "np.random.shuffle(x)\n",
    "train_idx = np.random.choice(n_features, size=int(n_features * split), replace=False)\n",
    "test_idx = np.array(list(set(range(n_features))- set(train_idx)))\n",
    "\n",
    "x_train = x[train_idx]\n",
    "x_test = x[test_idx]\n",
    "\n",
    "y_train = y[train_idx]\n",
    "y_test = y[test_idx]"
   ]
  },
  {
   "cell_type": "code",
   "execution_count": 51,
   "metadata": {},
   "outputs": [
    {
     "data": {
      "text/plain": [
       "(15, 3)"
      ]
     },
     "execution_count": 51,
     "metadata": {},
     "output_type": "execute_result"
    }
   ],
   "source": [
    "y_test.shape"
   ]
  },
  {
   "cell_type": "code",
   "execution_count": 63,
   "metadata": {},
   "outputs": [],
   "source": [
    "def get_distances(x, y, x_test, k):\n",
    "    \"\"\"\n",
    "        Gets the Manhattan distances between the data points\n",
    "        |x1 - x2|\n",
    "    \"\"\"\n",
    "    d0 = tf.expand_dims(x_test, axis=1)\n",
    "    d1 = tf.abs(tf.subtract(x_train, d0))\n",
    "    return tf.reduce_sum(input_tensor=d1, axis=2)\n",
    "\n",
    "\n",
    "distances = predict(x_train, y_train, x_test, k)"
   ]
  },
  {
   "cell_type": "code",
   "execution_count": 97,
   "metadata": {},
   "outputs": [],
   "source": [
    "def predict():\n",
    "    \"\"\"\n",
    "        Predicts labels\n",
    "    \"\"\"\n",
    "    \n",
    "    # Get indices of the KNN\n",
    "    values, k_indices = tf.nn.top_k(tf.negative(distances), k=k)\n",
    "\n",
    "    # Get labels associated with top k indices\n",
    "    k_labels = tf.gather(y_train, k_indices)\n",
    "    print('k_lables: ', k_labels.shape)\n",
    "\n",
    "    pred_sum = tf.reduce_sum(input_tensor=k_labels, axis=1)\n",
    "    \n",
    "    # Predict labels from the index of the maximum\n",
    "    pred = tf.argmax(pred_sum, axis=1)\n",
    "    \n",
    "    return pred\n",
    "    "
   ]
  }
 ],
 "metadata": {
  "kernelspec": {
   "display_name": "tfs",
   "language": "python",
   "name": "tfs"
  },
  "language_info": {
   "codemirror_mode": {
    "name": "ipython",
    "version": 3
   },
   "file_extension": ".py",
   "mimetype": "text/x-python",
   "name": "python",
   "nbconvert_exporter": "python",
   "pygments_lexer": "ipython3",
   "version": "3.7.4"
  }
 },
 "nbformat": 4,
 "nbformat_minor": 2
}
