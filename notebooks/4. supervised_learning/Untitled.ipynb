{
 "cells": [
  {
   "cell_type": "markdown",
   "metadata": {},
   "source": [
    "# Linear Regression: Boston Housing Dataset"
   ]
  },
  {
   "cell_type": "markdown",
   "metadata": {},
   "source": [
    "The second regression example uses a real dataset with 13 features.\n",
    "- The output **label** is the house price"
   ]
  },
  {
   "cell_type": "code",
   "execution_count": 4,
   "metadata": {},
   "outputs": [],
   "source": [
    "import tensorflow as tf\n",
    "import numpy as np\n",
    "\n",
    "from sklearn.datasets import load_boston\n",
    "from sklearn.preprocessing import scale"
   ]
  },
  {
   "cell_type": "markdown",
   "metadata": {},
   "source": [
    "###### Initialize constants"
   ]
  },
  {
   "cell_type": "code",
   "execution_count": 5,
   "metadata": {},
   "outputs": [],
   "source": [
    "lr = 1e-2\n",
    "n_epochs = 1000"
   ]
  },
  {
   "cell_type": "markdown",
   "metadata": {},
   "source": [
    "###### load and pre-process the dataset"
   ]
  },
  {
   "cell_type": "code",
   "execution_count": 33,
   "metadata": {},
   "outputs": [],
   "source": [
    "train_ratio = .6\n",
    "valid_ratio = .15\n",
    "\n",
    "boston = load_boston()\n",
    "x = boston.data\n",
    "y = boston.target\n",
    "\n",
    "data_size = x.shape[0]\n",
    "n_train = int(train_ratio * data_size)\n",
    "n_valid = int(valid_ratio * data_size) + n_train\n",
    "\n",
    "\n",
    "x_train = scale(x[:n_train,])\n",
    "y_train = y[:n_train,]\n",
    "\n",
    "x_valid = scale(x[n_train:n_valid])\n",
    "y_valid = y[n_train:n_valid]\n",
    "\n",
    "x_test = scale(x[n_valid:])\n",
    "y_test = y[n_valid:,]"
   ]
  },
  {
   "cell_type": "markdown",
   "metadata": {},
   "source": [
    "Scaling the data ensures gives a zero mean and unit variance.\n",
    "This helps in convergence"
   ]
  },
  {
   "cell_type": "code",
   "execution_count": 34,
   "metadata": {},
   "outputs": [],
   "source": [
    "def loss(x,  y, weights, bias):\n",
    "    \"\"\"\n",
    "        Finds loss using Mean Square Error \n",
    "    \"\"\"\n",
    "    err = weights * x + bias\n",
    "    sq_err = tf.square(err)\n",
    "    return tf.sqrt(tf.reduce_mean(input_tensor=sq_err))"
   ]
  },
  {
   "cell_type": "code",
   "execution_count": 35,
   "metadata": {},
   "outputs": [],
   "source": [
    "def grad(x, y, weights, bias):\n",
    "    \"\"\"\n",
    "        Gets the derivative of the loss w.r.t `w` and `b`\n",
    "    \"\"\"\n",
    "    with tf.GradientTape() as tape:\n",
    "        loss_v = loss(x, y, weights, bias)\n",
    "    return tape.gradient(loss_v, [weights, bias])"
   ]
  },
  {
   "cell_type": "markdown",
   "metadata": {},
   "source": [
    "#### Initialize training parameters"
   ]
  },
  {
   "cell_type": "code",
   "execution_count": 37,
   "metadata": {},
   "outputs": [],
   "source": [
    "W = tf.Variable(tf.random.normal([13, 1])) # (13, 1)\n",
    "b = tf.Variable(tf.zeros(1)) # (1,)"
   ]
  },
  {
   "cell_type": "code",
   "execution_count": 38,
   "metadata": {},
   "outputs": [
    {
     "data": {
      "text/plain": [
       "<tf.Variable 'Variable:0' shape=(13, 1) dtype=float32, numpy=\n",
       "array([[ 1.6218798 ],\n",
       "       [ 0.8597148 ],\n",
       "       [-0.8638655 ],\n",
       "       [ 0.7555596 ],\n",
       "       [-3.451998  ],\n",
       "       [ 0.02551743],\n",
       "       [ 0.43267754],\n",
       "       [ 1.6368196 ],\n",
       "       [ 1.1372801 ],\n",
       "       [-1.8005888 ],\n",
       "       [ 1.1697638 ],\n",
       "       [ 1.2778884 ],\n",
       "       [ 0.40321383]], dtype=float32)>"
      ]
     },
     "execution_count": 38,
     "metadata": {},
     "output_type": "execute_result"
    }
   ],
   "source": []
  },
  {
   "cell_type": "code",
   "execution_count": null,
   "metadata": {},
   "outputs": [],
   "source": []
  }
 ],
 "metadata": {
  "kernelspec": {
   "display_name": "tfs",
   "language": "python",
   "name": "tfs"
  },
  "language_info": {
   "codemirror_mode": {
    "name": "ipython",
    "version": 3
   },
   "file_extension": ".py",
   "mimetype": "text/x-python",
   "name": "python",
   "nbconvert_exporter": "python",
   "pygments_lexer": "ipython3",
   "version": "3.7.4"
  }
 },
 "nbformat": 4,
 "nbformat_minor": 2
}
