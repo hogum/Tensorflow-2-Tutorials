{
 "cells": [
  {
   "cell_type": "markdown",
   "metadata": {},
   "source": [
    "# Linear Regression: Boston Housing Dataset"
   ]
  },
  {
   "cell_type": "markdown",
   "metadata": {},
   "source": [
    "#### Issue\n",
    "\n",
    "The second regression example uses a real dataset with 13 features.\n",
    "- The output **label** is the house price"
   ]
  },
  {
   "cell_type": "code",
   "execution_count": null,
   "metadata": {},
   "outputs": [],
   "source": [
    "import tensorflow as tf\n",
    "import numpy as np\n",
    "\n",
    "from sklearn.datasets import load_boston\n",
    "from sklearn.preprocessing import scale"
   ]
  },
  {
   "cell_type": "markdown",
   "metadata": {},
   "source": [
    "###### Initialize constants"
   ]
  },
  {
   "cell_type": "code",
   "execution_count": 18,
   "metadata": {},
   "outputs": [],
   "source": [
    "lr = 1e-2\n",
    "n_epochs = 2000"
   ]
  },
  {
   "cell_type": "markdown",
   "metadata": {},
   "source": [
    "###### load and pre-process the dataset"
   ]
  },
  {
   "cell_type": "code",
   "execution_count": 19,
   "metadata": {},
   "outputs": [],
   "source": [
    "train_ratio = .6\n",
    "valid_ratio = .15\n",
    "\n",
    "boston = load_boston()\n",
    "x = boston.data\n",
    "y = boston.target\n",
    "\n",
    "data_size = x.shape[0]\n",
    "n_features = x.shape[1]\n",
    "n_train = int(train_ratio * data_size)\n",
    "n_valid = int(valid_ratio * data_size) + n_train\n",
    "\n",
    "\n",
    "x_train = scale(x[:n_train,])\n",
    "y_train = y[:n_train,]\n",
    "\n",
    "x_valid = scale(x[n_train:n_valid])\n",
    "y_valid = y[n_train:n_valid]\n",
    "\n",
    "x_test = scale(x[n_valid:])\n",
    "y_test = y[n_valid:,]"
   ]
  },
  {
   "cell_type": "markdown",
   "metadata": {},
   "source": [
    "Scaling the data ensures gives a zero mean and unit variance.\n",
    "This helps in convergence"
   ]
  },
  {
   "cell_type": "code",
   "execution_count": null,
   "metadata": {},
   "outputs": [],
   "source": [
    "def loss(x,  y, weights, bias):\n",
    "    \"\"\"\n",
    "        Finds loss using Mean Square Error \n",
    "    \"\"\"\n",
    "    y_pred = weights * x + bias\n",
    "    err = y_pred - y\n",
    "    sq_err = tf.square(err)\n",
    "\n",
    "    return tf.sqrt(tf.reduce_mean(input_tensor=sq_err))"
   ]
  },
  {
   "cell_type": "code",
   "execution_count": null,
   "metadata": {},
   "outputs": [],
   "source": [
    "def grad(x, y, weights, bias):\n",
    "    \"\"\"\n",
    "        Gets the derivative of the loss w.r.t `w` and `b`\n",
    "    \"\"\"\n",
    "    with tf.GradientTape() as tape:\n",
    "        loss_v = loss(x, y, weights, bias)\n",
    "    return tape.gradient(loss_v, [weights, bias])"
   ]
  },
  {
   "cell_type": "markdown",
   "metadata": {},
   "source": [
    "#### Initialize training parameters"
   ]
  },
  {
   "cell_type": "code",
   "execution_count": 116,
   "metadata": {},
   "outputs": [],
   "source": [
    "W = tf.Variable(tf.random.normal([n_features, 1])) # (13, 1)\n",
    "B = tf.Variable(tf.zeros(1)) # (1,)"
   ]
  },
  {
   "cell_type": "code",
   "execution_count": 117,
   "metadata": {},
   "outputs": [
    {
     "name": "stdout",
     "output_type": "stream",
     "text": [
      "(13, 1)\n",
      "(1,)\n"
     ]
    }
   ],
   "source": [
    "print(W.numpy().shape)\n",
    "print(B.numpy().shape)"
   ]
  },
  {
   "cell_type": "markdown",
   "metadata": {},
   "source": [
    " ##### train"
   ]
  },
  {
   "cell_type": "code",
   "execution_count": null,
   "metadata": {},
   "outputs": [],
   "source": [
    "display_epoch = 20\n",
    "for epoch in range(n_epochs):\n",
    "    dw, db = grad(x_train, y_train, W, B)\n",
    "    W_hat, b_hat = dw * lr, db * lr\n",
    "    \n",
    "    W.assign_sub(W_hat)\n",
    "    B.assign_sub(b_hat)\n",
    "    \n",
    "    #loss_ = loss(x_train, y_train, W, B)\n",
    "    if not epoch % display_epoch:\n",
    "        print(f'epoch: {epoch}, loss: {loss_}')"
   ]
  },
  {
   "cell_type": "markdown",
   "metadata": {},
   "source": [
    "#### Predict on test data"
   ]
  },
  {
   "cell_type": "code",
   "execution_count": null,
   "metadata": {},
   "outputs": [],
   "source": [
    "y_pred = W * x + B"
   ]
  }
 ],
 "metadata": {
  "kernelspec": {
   "display_name": "tfs",
   "language": "python",
   "name": "tfs"
  },
  "language_info": {
   "codemirror_mode": {
    "name": "ipython",
    "version": 3
   },
   "file_extension": ".py",
   "mimetype": "text/x-python",
   "name": "python",
   "nbconvert_exporter": "python",
   "pygments_lexer": "ipython3",
   "version": "3.7.4"
  }
 },
 "nbformat": 4,
 "nbformat_minor": 2
}
