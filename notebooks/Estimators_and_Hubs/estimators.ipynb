{
 "cells": [
  {
   "cell_type": "markdown",
   "metadata": {},
   "source": [
    "# Estimators"
   ]
  },
  {
   "cell_type": "markdown",
   "metadata": {},
   "source": [
    "Estimators in Tensorflow support safe distributed training loops for graph building, variable initialization, data loading, handling exceptions, checkpoints and summaries for Tensorboard\n",
    "\n",
    "#### Steps in developing an Estimator model\n",
    "\n",
    "**1.** Acquiring the data and creation of the data functions\n",
    "\n",
    "**2.** Creating feature columns\n",
    "\n",
    "**3.** Instantiating the Estimator\n",
    "\n",
    "**4.** Evaluating the model's"
   ]
  },
  {
   "cell_type": "code",
   "execution_count": 3,
   "metadata": {},
   "outputs": [],
   "source": [
    "import tensorflow as tf\n",
    "import numpy as np"
   ]
  },
  {
   "cell_type": "markdown",
   "metadata": {},
   "source": [
    "#### 1. Acquire & preprocess the data"
   ]
  },
  {
   "cell_type": "code",
   "execution_count": 4,
   "metadata": {},
   "outputs": [],
   "source": [
    "mnist = tf.keras.datasets.fashion_mnist\n",
    "\n",
    "(x_train, y_train), (x_test, y_test) = mnist.load_data()\n",
    "\n",
    "x_train, x_test = x_train / 255., x_test / 255. # Normalize\n",
    "y_train = y_train.astype('int32')\n",
    "y_test = y_test.astype('int32')"
   ]
  },
  {
   "cell_type": "markdown",
   "metadata": {},
   "source": [
    "**Dataset functions**\n",
    "\n",
    "The `tf.compat.v1.estimator.inputs.numpy_input_fn` method helps batch, repeat or shuffle a dataset"
   ]
  },
  {
   "cell_type": "code",
   "execution_count": 10,
   "metadata": {},
   "outputs": [],
   "source": [
    "train_input_func = tf.compat.v1.estimator.inputs.numpy_input_fn(\n",
    "    x = {'x': x_train},\n",
    "    y = y_train,\n",
    "    num_epochs=None,\n",
    "    batch_size=64,\n",
    "    shuffle=True\n",
    ")"
   ]
  },
  {
   "cell_type": "code",
   "execution_count": 6,
   "metadata": {},
   "outputs": [],
   "source": [
    "test_input_func = tf.compat.v1.estimator.inputs.numpy_input_fn(\n",
    "    x = {'x': x_test},\n",
    "    y = y_test,\n",
    "    num_epochs=1,\n",
    "    batch_size=128,\n",
    "    shuffle=False\n",
    ")"
   ]
  },
  {
   "cell_type": "markdown",
   "metadata": {},
   "source": [
    "#### 2. Create feature columns\n",
    "\n",
    "- Feature columns are means of passing data to the estimator"
   ]
  },
  {
   "cell_type": "code",
   "execution_count": 7,
   "metadata": {},
   "outputs": [],
   "source": [
    "feature_column = tf.feature_column.numeric_column(key='x', shape=[28, 28]) # Input Images shape"
   ]
  },
  {
   "cell_type": "markdown",
   "metadata": {},
   "source": [
    "#### 3. Initialize Estimator"
   ]
  },
  {
   "cell_type": "code",
   "execution_count": 8,
   "metadata": {},
   "outputs": [],
   "source": [
    "# Build DNN classifier\n",
    "\n",
    "clf = tf.compat.v1.estimator.DNNClassifier(hidden_units=[256, 32],\n",
    "                                 feature_columns=[feature_column],\n",
    "                                 optimizer='Adam',\n",
    "                                 n_classes=10,\n",
    "                                 dropout=.1,\n",
    "                                 model_dir='/tmp/mnist_est',\n",
    "                                 loss_reduction=tf.compat.v1.losses.Reduction.SUM\n",
    "                                )"
   ]
  },
  {
   "cell_type": "code",
   "execution_count": 12,
   "metadata": {},
   "outputs": [
    {
     "name": "stderr",
     "output_type": "stream",
     "text": [
      "W0902 19:30:19.624284 140128253720384 deprecation.py:323] From /root/.virtualenvs/tfs/lib/python3.7/site-packages/tensorflow/python/training/saver.py:1066: get_checkpoint_mtimes (from tensorflow.python.training.checkpoint_management) is deprecated and will be removed in a future version.\n",
      "Instructions for updating:\n",
      "Use standard file utilities to get mtimes.\n"
     ]
    },
    {
     "data": {
      "text/plain": [
       "<tensorflow_estimator.python.estimator.canned.dnn.DNNClassifier at 0x7f71e3e7a890>"
      ]
     },
     "execution_count": 12,
     "metadata": {},
     "output_type": "execute_result"
    }
   ],
   "source": [
    "# Train the model\n",
    "\n",
    "clf.train(input_fn=train_input_func, steps=10000)"
   ]
  },
  {
   "cell_type": "code",
   "execution_count": 13,
   "metadata": {},
   "outputs": [
    {
     "data": {
      "text/plain": [
       "{'accuracy': 0.3614,\n",
       " 'average_loss': 1.5363648,\n",
       " 'loss': 194.47656,\n",
       " 'global_step': 14688}"
      ]
     },
     "execution_count": 13,
     "metadata": {},
     "output_type": "execute_result"
    }
   ],
   "source": [
    "clf.evaluate(input_fn=test_input_func)"
   ]
  }
 ],
 "metadata": {
  "kernelspec": {
   "display_name": "tfs",
   "language": "python",
   "name": "tfs"
  },
  "language_info": {
   "codemirror_mode": {
    "name": "ipython",
    "version": 3
   },
   "file_extension": ".py",
   "mimetype": "text/x-python",
   "name": "python",
   "nbconvert_exporter": "python",
   "pygments_lexer": "ipython3",
   "version": "3.7.4"
  }
 },
 "nbformat": 4,
 "nbformat_minor": 2
}
