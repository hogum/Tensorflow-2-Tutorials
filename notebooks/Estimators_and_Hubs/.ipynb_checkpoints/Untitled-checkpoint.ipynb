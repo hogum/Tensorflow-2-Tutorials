{
 "cells": [
  {
   "cell_type": "markdown",
   "metadata": {},
   "source": [
    "## Tensorflow Hub"
   ]
  },
  {
   "cell_type": "markdown",
   "metadata": {},
   "source": [
    "Tensorflow Hub provides reusable components (modules). These are tensorflow graphs reusable across other similar tasks"
   ]
  },
  {
   "cell_type": "markdown",
   "metadata": {},
   "source": [
    "[ Sentiment Analysis on the IMDB dataset](http://ai.stanford.edu/~amaas/data/sentiment/)"
   ]
  },
  {
   "cell_type": "code",
   "execution_count": 6,
   "metadata": {},
   "outputs": [],
   "source": [
    "import tensorflow as tf\n",
    "import numpy as np\n",
    "\n",
    "import matplotlib.pyplot as plt\n",
    "\n",
    "import re\n",
    "import os"
   ]
  },
  {
   "cell_type": "code",
   "execution_count": 5,
   "metadata": {},
   "outputs": [
    {
     "ename": "ModuleNotFoundError",
     "evalue": "No module named 'seaborn'",
     "output_type": "error",
     "traceback": [
      "\u001b[0;31m---------------------------------------------------------------------------\u001b[0m",
      "\u001b[0;31mModuleNotFoundError\u001b[0m                       Traceback (most recent call last)",
      "\u001b[0;32m<ipython-input-5-6f477838ac7f>\u001b[0m in \u001b[0;36m<module>\u001b[0;34m\u001b[0m\n\u001b[0;32m----> 1\u001b[0;31m \u001b[0;32mimport\u001b[0m \u001b[0mseaborn\u001b[0m\u001b[0;34m\u001b[0m\u001b[0;34m\u001b[0m\u001b[0m\n\u001b[0m",
      "\u001b[0;31mModuleNotFoundError\u001b[0m: No module named 'seaborn'"
     ]
    }
   ],
   "source": [
    "import seaborn"
   ]
  },
  {
   "cell_type": "code",
   "execution_count": 2,
   "metadata": {},
   "outputs": [],
   "source": [
    "# constants\n",
    "\n",
    "n_classes = 2 # Positive, Negative\n",
    "hidden_units = [500, 100]\n",
    "lr = 1e-4"
   ]
  },
  {
   "cell_type": "markdown",
   "metadata": {},
   "source": [
    "#### Acquire and preprocess the review data"
   ]
  },
  {
   "cell_type": "code",
   "execution_count": 15,
   "metadata": {},
   "outputs": [],
   "source": [
    "dir_name = 'imdb_set'\n",
    "\n",
    "def fetch_data():\n",
    "    \"\"\"\n",
    "        Downloads the required data files\n",
    "    \"\"\"\n",
    "    data_path = tf.keras.utils.get_file(\n",
    "        fname=dir_name,\n",
    "        origin='http://ai.stanford.edu/~amaas/data/sentiment/aclImdb_v1.tar.gz',\n",
    "        extract=True\n",
    "    )"
   ]
  },
  {
   "cell_type": "code",
   "execution_count": null,
   "metadata": {},
   "outputs": [],
   "source": [
    "# Download the data\n",
    "\n",
    "d_path = fetch_data()"
   ]
  },
  {
   "cell_type": "code",
   "execution_count": null,
   "metadata": {},
   "outputs": [],
   "source": [
    "# Get train and test data frames\n",
    "\n",
    "train_frame = load_data(os.path.join(d_path, dir_name, 'train'))\n",
    "test_frame = load_data(os.path.join(d_path, dir_name, 'test'))"
   ]
  },
  {
   "cell_type": "code",
   "execution_count": 12,
   "metadata": {},
   "outputs": [],
   "source": [
    "# File naming format: file_sentiment e.g xx_3.txt -> sentiment: 2\n",
    "\n",
    "def create_frame(dir_path):\n",
    "    \"\"\"\n",
    "        Creates a DataFrame from the loaded files in\n",
    "        the given directory path\n",
    "    \"\"\"\n",
    "    data = {'description': [],\n",
    "           'sentiment': []\n",
    "           }\n",
    "    pattern = '\\d+_(\\d+)\\.txt'\n",
    "    pattern = re.compile(pattern)\n",
    "    \n",
    "    for file in os.listdir(dir_path):\n",
    "        with tf.io.gfile.GFile(file) as f:\n",
    "            data.get('description').append(f.read())\n",
    "            data.get('sentiment').append(pattern.match(file)).group(1)\n",
    "    \n",
    "    return pd.DataFrame.from_dict(data)"
   ]
  },
  {
   "cell_type": "code",
   "execution_count": 14,
   "metadata": {},
   "outputs": [],
   "source": [
    "def load_data(data_path):\n",
    "    \"\"\"\n",
    "        Gets the positive and negative data samples\n",
    "        and concatenates them\n",
    "    \"\"\"\n",
    "    \n",
    "    positive_frame = create_frame(os.path.join(data_path, 'pos'))\n",
    "    neg_frame = create_frame(os.path.join(data_path, 'neg'))\n",
    "    \n",
    "    # Add polarities\n",
    "    positive_frame['polarity'] = 1\n",
    "    neg_frame['polarity'] = 0\n",
    "    \n",
    "    frame = pd.concat([positive_frame, neg_frame])\n",
    "    \n",
    "    # Shuffle and insert new numerical index\n",
    "    return frame.sample(frac=1).reset_index(drop=True)"
   ]
  },
  {
   "cell_type": "code",
   "execution_count": null,
   "metadata": {},
   "outputs": [],
   "source": []
  }
 ],
 "metadata": {
  "kernelspec": {
   "display_name": "tfs",
   "language": "python",
   "name": "tfs"
  },
  "language_info": {
   "codemirror_mode": {
    "name": "ipython",
    "version": 3
   },
   "file_extension": ".py",
   "mimetype": "text/x-python",
   "name": "python",
   "nbconvert_exporter": "python",
   "pygments_lexer": "ipython3",
   "version": "3.7.4"
  }
 },
 "nbformat": 4,
 "nbformat_minor": 2
}
