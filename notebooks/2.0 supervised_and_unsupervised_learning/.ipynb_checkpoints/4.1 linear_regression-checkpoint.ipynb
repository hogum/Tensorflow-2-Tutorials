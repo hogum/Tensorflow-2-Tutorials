{
 "cells": [
  {
   "cell_type": "markdown",
   "metadata": {},
   "source": [
    "# Linear Regression Example"
   ]
  },
  {
   "cell_type": "markdown",
   "metadata": {},
   "source": [
    "#### Our first example uses an artificial dataset with a single feature"
   ]
  },
  {
   "cell_type": "code",
   "execution_count": 16,
   "metadata": {},
   "outputs": [],
   "source": [
    "import tensorflow as tf\n",
    "import numpy as np\n",
    "import matplotlib.pyplot as plt"
   ]
  },
  {
   "cell_type": "code",
   "execution_count": 17,
   "metadata": {},
   "outputs": [],
   "source": [
    "data_size = 10000\n",
    "steps = 1500\n",
    "learning_rate = 1e-3"
   ]
  },
  {
   "cell_type": "code",
   "execution_count": 18,
   "metadata": {},
   "outputs": [],
   "source": [
    "# Initialize biase and weight\n",
    "\n",
    "W = tf.Variable(np.random.randn())\n",
    "B = tf.Variable(np.random.randn())"
   ]
  },
  {
   "cell_type": "markdown",
   "metadata": {},
   "source": [
    "Let's create the functions we will be using"
   ]
  },
  {
   "cell_type": "code",
   "execution_count": 19,
   "metadata": {},
   "outputs": [],
   "source": [
    "def predict(n_values, m, c):\n",
    "    \"\"\"\n",
    "        Predicts the labels(y) given weight(m) and bias(c)\n",
    "    \"\"\"\n",
    "    \n",
    "    # Take noise and values from random distribution\n",
    "    x = tf.random.normal([n_values])\n",
    "    noise = tf.random.normal([n_values])\n",
    "    y = m * x + c + noise\n",
    "    \n",
    "    return x, y"
   ]
  },
  {
   "cell_type": "code",
   "execution_count": 20,
   "metadata": {},
   "outputs": [],
   "source": [
    "def loss(x, y, weights, bias):\n",
    "    \"\"\"\n",
    "       Finds the mean square loss between predicted and\n",
    "       initial `y` values\n",
    "    \"\"\"\n",
    "    \n",
    "    y_pred = weights * x + bias\n",
    "    error = y_pred - y\n",
    "    sq_error =  tf.square(error)\n",
    "    \n",
    "    return tf.reduce_mean(input_tensor=sq_error)"
   ]
  },
  {
   "cell_type": "code",
   "execution_count": 21,
   "metadata": {},
   "outputs": [],
   "source": [
    "def grad(x, y, weights, bias):\n",
    "    \"\"\"\n",
    "        Finds loss gradient w.r.t weights and bias\n",
    "    \"\"\"\n",
    "    \n",
    "    with tf.GradientTape() as tape:\n",
    "        loss_ = loss(x, y, weights,bias)\n",
    "        \n",
    "    return tape.gradient(loss_, [weights, bias])"
   ]
  },
  {
   "cell_type": "markdown",
   "metadata": {},
   "source": [
    "get the data"
   ]
  },
  {
   "cell_type": "code",
   "execution_count": 22,
   "metadata": {},
   "outputs": [],
   "source": [
    "x, y = predict(data_size, m=6, c=-5)"
   ]
  },
  {
   "cell_type": "markdown",
   "metadata": {},
   "source": [
    "Plot the raw data "
   ]
  },
  {
   "cell_type": "code",
   "execution_count": 23,
   "metadata": {},
   "outputs": [
    {
     "data": {
      "text/plain": [
       "<matplotlib.collections.PathCollection at 0x7f02fc140510>"
      ]
     },
     "execution_count": 23,
     "metadata": {},
     "output_type": "execute_result"
    },
    {
     "data": {
      "image/png": "[encoded data removed]",
      "text/plain": [
       "<Figure size 432x288 with 1 Axes>"
      ]
     },
     "metadata": {
      "needs_background": "light"
     },
     "output_type": "display_data"
    }
   ],
   "source": [
    "plt.xlabel('c')\n",
    "plt.ylabel('y')\n",
    "plt.scatter(x, y)"
   ]
  },
  {
   "cell_type": "code",
   "execution_count": 24,
   "metadata": {},
   "outputs": [
    {
     "name": "stdout",
     "output_type": "stream",
     "text": [
      "step: 0, loss: 67.36309814453125\n",
      "step: 10, loss: 64.73764038085938\n",
      "step: 20, loss: 62.21611404418945\n",
      "step: 30, loss: 59.79439926147461\n",
      "step: 40, loss: 57.46855163574219\n",
      "step: 50, loss: 55.23476791381836\n",
      "step: 60, loss: 53.08942413330078\n",
      "step: 70, loss: 51.02899932861328\n",
      "step: 80, loss: 49.05013656616211\n",
      "step: 90, loss: 47.14960479736328\n",
      "step: 100, loss: 45.32430648803711\n",
      "step: 110, loss: 43.57126235961914\n",
      "step: 120, loss: 41.887611389160156\n",
      "step: 130, loss: 40.2706184387207\n",
      "step: 140, loss: 38.717620849609375\n",
      "step: 150, loss: 37.226104736328125\n",
      "step: 160, loss: 35.79363250732422\n",
      "step: 170, loss: 34.41787338256836\n",
      "step: 180, loss: 33.096561431884766\n",
      "step: 190, loss: 31.827556610107422\n",
      "step: 200, loss: 30.60879135131836\n",
      "step: 210, loss: 29.438255310058594\n",
      "step: 220, loss: 28.314067840576172\n",
      "step: 230, loss: 27.234378814697266\n",
      "step: 240, loss: 26.19742774963379\n",
      "step: 250, loss: 25.201522827148438\n",
      "step: 260, loss: 24.245040893554688\n",
      "step: 270, loss: 23.3264217376709\n",
      "step: 280, loss: 22.444171905517578\n",
      "step: 290, loss: 21.596834182739258\n",
      "step: 300, loss: 20.783042907714844\n",
      "step: 310, loss: 20.00146484375\n",
      "step: 320, loss: 19.250822067260742\n",
      "step: 330, loss: 18.52989387512207\n",
      "step: 340, loss: 17.837509155273438\n",
      "step: 350, loss: 17.172527313232422\n",
      "step: 360, loss: 16.53386878967285\n",
      "step: 370, loss: 15.920489311218262\n",
      "step: 380, loss: 15.33139705657959\n",
      "step: 390, loss: 14.765617370605469\n",
      "step: 400, loss: 14.222234725952148\n",
      "step: 410, loss: 13.700362205505371\n",
      "step: 420, loss: 13.199143409729004\n",
      "step: 430, loss: 12.71777057647705\n",
      "step: 440, loss: 12.255448341369629\n",
      "step: 450, loss: 11.811426162719727\n",
      "step: 460, loss: 11.38498306274414\n",
      "step: 470, loss: 10.975421905517578\n",
      "step: 480, loss: 10.582072257995605\n",
      "step: 490, loss: 10.204290390014648\n",
      "step: 500, loss: 9.841464042663574\n",
      "step: 510, loss: 9.492997169494629\n",
      "step: 520, loss: 9.158329963684082\n",
      "step: 530, loss: 8.83690357208252\n",
      "step: 540, loss: 8.528203010559082\n",
      "step: 550, loss: 8.231724739074707\n",
      "step: 560, loss: 7.9469780921936035\n",
      "step: 570, loss: 7.673506259918213\n",
      "step: 580, loss: 7.410854816436768\n",
      "step: 590, loss: 7.158602237701416\n",
      "step: 600, loss: 6.91633415222168\n",
      "step: 610, loss: 6.683657646179199\n",
      "step: 620, loss: 6.460191249847412\n",
      "step: 630, loss: 6.245567798614502\n",
      "step: 640, loss: 6.0394439697265625\n",
      "step: 650, loss: 5.841475486755371\n",
      "step: 660, loss: 5.651345729827881\n",
      "step: 670, loss: 5.468738079071045\n",
      "step: 680, loss: 5.293359756469727\n",
      "step: 690, loss: 5.1249213218688965\n",
      "step: 700, loss: 4.963155746459961\n",
      "step: 710, loss: 4.807790279388428\n",
      "step: 720, loss: 4.658577919006348\n",
      "step: 730, loss: 4.5152716636657715\n",
      "step: 740, loss: 4.3776350021362305\n",
      "step: 750, loss: 4.245448589324951\n",
      "step: 760, loss: 4.118492126464844\n",
      "step: 770, loss: 3.9965624809265137\n",
      "step: 780, loss: 3.8794569969177246\n",
      "step: 790, loss: 3.76698899269104\n",
      "step: 800, loss: 3.6589717864990234\n",
      "step: 810, loss: 3.5552289485931396\n",
      "step: 820, loss: 3.4555938243865967\n",
      "step: 830, loss: 3.35990047454834\n",
      "step: 840, loss: 3.2679967880249023\n",
      "step: 850, loss: 3.179731607437134\n",
      "step: 860, loss: 3.094959259033203\n",
      "step: 870, loss: 3.0135416984558105\n",
      "step: 880, loss: 2.935347318649292\n",
      "step: 890, loss: 2.860248327255249\n",
      "step: 900, loss: 2.7881219387054443\n",
      "step: 910, loss: 2.718850612640381\n",
      "step: 920, loss: 2.6523220539093018\n",
      "step: 930, loss: 2.588426113128662\n",
      "step: 940, loss: 2.527059316635132\n",
      "step: 950, loss: 2.46812105178833\n",
      "step: 960, loss: 2.411515474319458\n",
      "step: 970, loss: 2.3571488857269287\n",
      "step: 980, loss: 2.3049354553222656\n",
      "step: 990, loss: 2.254791021347046\n",
      "step: 1000, loss: 2.2066292762756348\n",
      "step: 1010, loss: 2.160374402999878\n",
      "step: 1020, loss: 2.115949869155884\n",
      "step: 1030, loss: 2.0732812881469727\n",
      "step: 1040, loss: 2.032304286956787\n",
      "step: 1050, loss: 1.9929487705230713\n",
      "step: 1060, loss: 1.9551515579223633\n",
      "step: 1070, loss: 1.9188511371612549\n",
      "step: 1080, loss: 1.8839867115020752\n",
      "step: 1090, loss: 1.850502371788025\n",
      "step: 1100, loss: 1.8183434009552002\n",
      "step: 1110, loss: 1.7874574661254883\n",
      "step: 1120, loss: 1.7577928304672241\n",
      "step: 1130, loss: 1.7293040752410889\n",
      "step: 1140, loss: 1.7019425630569458\n",
      "step: 1150, loss: 1.6756638288497925\n",
      "step: 1160, loss: 1.6504251956939697\n",
      "step: 1170, loss: 1.6261870861053467\n",
      "step: 1180, loss: 1.6029071807861328\n",
      "step: 1190, loss: 1.580547571182251\n",
      "step: 1200, loss: 1.5590732097625732\n",
      "step: 1210, loss: 1.5384480953216553\n",
      "step: 1220, loss: 1.5186402797698975\n",
      "step: 1230, loss: 1.499617099761963\n",
      "step: 1240, loss: 1.4813464879989624\n",
      "step: 1250, loss: 1.4637986421585083\n",
      "step: 1260, loss: 1.4469478130340576\n",
      "step: 1270, loss: 1.4307615756988525\n",
      "step: 1280, loss: 1.4152158498764038\n",
      "step: 1290, loss: 1.4002859592437744\n",
      "step: 1300, loss: 1.3859468698501587\n",
      "step: 1310, loss: 1.3721749782562256\n",
      "step: 1320, loss: 1.3589481115341187\n",
      "step: 1330, loss: 1.3462446928024292\n",
      "step: 1340, loss: 1.334045171737671\n",
      "step: 1350, loss: 1.322327733039856\n",
      "step: 1360, loss: 1.3110746145248413\n",
      "step: 1370, loss: 1.300266981124878\n",
      "step: 1380, loss: 1.2898870706558228\n",
      "step: 1390, loss: 1.2799185514450073\n",
      "step: 1400, loss: 1.27034330368042\n",
      "step: 1410, loss: 1.2611472606658936\n",
      "step: 1420, loss: 1.2523152828216553\n",
      "step: 1430, loss: 1.2438329458236694\n",
      "step: 1440, loss: 1.235686182975769\n",
      "step: 1450, loss: 1.2278621196746826\n",
      "step: 1460, loss: 1.2203478813171387\n",
      "step: 1470, loss: 1.2131304740905762\n",
      "step: 1480, loss: 1.2061982154846191\n",
      "step: 1490, loss: 1.199541449546814\n"
     ]
    }
   ],
   "source": [
    "display_interval = 10\n",
    "\n",
    "for step in range(steps):\n",
    "    d_w, d_b = grad(x, y, W, B)\n",
    "    weight_hat = d_w * learning_rate\n",
    "    bias_hat = d_b * learning_rate\n",
    "    \n",
    "    W.assign_sub(weight_hat)\n",
    "    B.assign_sub(bias_hat)\n",
    "    loss_ = loss(x, y, W, B)\n",
    "    \n",
    "    if not step % display_interval:\n",
    "        print(f'step: {step}, loss: {loss_}')\n",
    "    \n",
    "    "
   ]
  },
  {
   "cell_type": "markdown",
   "metadata": {},
   "source": [
    "Plot Output"
   ]
  },
  {
   "cell_type": "code",
   "execution_count": 25,
   "metadata": {},
   "outputs": [
    {
     "data": {
      "text/plain": [
       "Text(0.5, 1.0, 'Fit')"
      ]
     },
     "execution_count": 25,
     "metadata": {},
     "output_type": "execute_result"
    },
    {
     "data": {
      "image/png": "[encoded data removed]",
      "text/plain": [
       "<Figure size 432x288 with 1 Axes>"
      ]
     },
     "metadata": {
      "needs_background": "light"
     },
     "output_type": "display_data"
    }
   ],
   "source": [
    "xs = np.linspace(-3, 4, 50)\n",
    "ys = W.numpy() * xs + B.numpy()\n",
    "\n",
    "plt.scatter(xs, ys)\n",
    "plt.xlabel('x')\n",
    "plt.ylabel('y')\n",
    "plt.title('Fit')"
   ]
  }
 ],
 "metadata": {
  "kernelspec": {
   "display_name": "tfs",
   "language": "python",
   "name": "tfs"
  },
  "language_info": {
   "codemirror_mode": {
    "name": "ipython",
    "version": 3
   },
   "file_extension": ".py",
   "mimetype": "text/x-python",
   "name": "python",
   "nbconvert_exporter": "python",
   "pygments_lexer": "ipython3",
   "version": "3.7.4"
  }
 },
 "nbformat": 4,
 "nbformat_minor": 2
}
