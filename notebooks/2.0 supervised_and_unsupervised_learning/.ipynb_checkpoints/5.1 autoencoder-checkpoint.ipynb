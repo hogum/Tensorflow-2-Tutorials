{
 "cells": [
  {
   "cell_type": "markdown",
   "metadata": {},
   "source": [
    "# Autoencoder"
   ]
  },
  {
   "cell_type": "markdown",
   "metadata": {},
   "source": [
    "Autoencoding is a data compression and decompression algorithm implemented with an Artificial Neural Network (ANN)"
   ]
  },
  {
   "cell_type": "markdown",
   "metadata": {},
   "source": [
    "#### A one-layer autoencoder"
   ]
  },
  {
   "cell_type": "code",
   "execution_count": 43,
   "metadata": {},
   "outputs": [],
   "source": [
    "import tensorflow as tf\n",
    "import numpy as np\n",
    "\n",
    "import matplotlib.pyplot as plt\n",
    "%matplotlib inline"
   ]
  },
  {
   "cell_type": "markdown",
   "metadata": {},
   "source": [
    "###### Preprocess the data"
   ]
  },
  {
   "cell_type": "code",
   "execution_count": 17,
   "metadata": {},
   "outputs": [],
   "source": [
    "fashion_mnist = tf.keras.datasets.fashion_mnist\n",
    "\n",
    "\n",
    "(x_train, _), (x_test, _) = fashion_mnist.load_data() # No labels needed\n",
    "\n",
    "# Normalize and flatten the input\n",
    "x_train, x_test  = x_train / 255. , x_test / 255.\n",
    "x_train = x_train.reshape([x_train.shape[0], np.prod(x_train.shape[1:])])\n",
    "x_test = x_test.reshape([x_test.shape[0], np.prod(x_test.shape[1:])])"
   ]
  },
  {
   "cell_type": "code",
   "execution_count": 89,
   "metadata": {},
   "outputs": [],
   "source": [
    "image_dim = np.prod(x_train.shape[1:]) # 28 * 28\n",
    "encoding_dims = 64  # length of encoded items"
   ]
  },
  {
   "cell_type": "markdown",
   "metadata": {},
   "source": [
    "##### Construct encoder and autoencoder"
   ]
  },
  {
   "cell_type": "code",
   "execution_count": 90,
   "metadata": {},
   "outputs": [],
   "source": [
    "input_image = tf.keras.layers.Input(shape=(image_dim, ))\n",
    "encoded_img = tf.keras.layers.Dense(units=encoding_dims, activation='relu',\n",
    "                                   activity_regularizer=tf.keras.regularizers.l2(1e-4),\n",
    "                                   )(input_image)\n",
    "encoder = tf.keras.models.Model(input_image, encoded_img)\n",
    "\n",
    "# lossy recostruction of input (Decoding)\n",
    "decoded_img = tf.keras.layers.Dense(units=image_dim, activation='sigmoid')(encoded_img)\n",
    "auto_encoder = tf.keras.models.Model(input_image, decoded_img)"
   ]
  },
  {
   "cell_type": "markdown",
   "metadata": {},
   "source": [
    "- [X] The autoencoder maps an input image to its reconstruction"
   ]
  },
  {
   "cell_type": "markdown",
   "metadata": {},
   "source": [
    "##### Construct the decoder"
   ]
  },
  {
   "cell_type": "code",
   "execution_count": 91,
   "metadata": {},
   "outputs": [],
   "source": [
    "encoded_input = tf.keras.layers.Input(shape=(encoding_dims, ))\n",
    "decoding_layer = auto_encoder.layers[-1] # last autoencoder layer\n",
    "decoder = tf.keras.models.Model(encoded_input, decoding_layer(encoded_input))"
   ]
  },
  {
   "cell_type": "markdown",
   "metadata": {},
   "source": [
    "##### compile the autoencoder"
   ]
  },
  {
   "cell_type": "code",
   "execution_count": 92,
   "metadata": {},
   "outputs": [],
   "source": [
    "auto_encoder.compile(optimizer='adadelta', loss='binary_crossentropy')\n",
    "\n"
   ]
  },
  {
   "cell_type": "markdown",
   "metadata": {},
   "source": [
    "##### add checkpoints"
   ]
  },
  {
   "cell_type": "code",
   "execution_count": 93,
   "metadata": {},
   "outputs": [],
   "source": [
    "model_path = '.model_autoencoder.weights.hdf5'\n",
    "\n",
    "# save after every epoch\n",
    "checkpnt_1 = tf.keras.callbacks.ModelCheckpoint(filepath=model_path, verbose=1, save_best_only=True)\n",
    "\n",
    "checkpnt_2 = tf.keras.callbacks.EarlyStopping(monitor='val_loss',\n",
    "                                              min_delta=1e-4,\n",
    "                                              patience=3,\n",
    "                                              verbose=2)"
   ]
  },
  {
   "cell_type": "markdown",
   "metadata": {},
   "source": [
    "- The first checkpoint saves the best model after every epoch.\n",
    "- The second checkpoint stops the training when the validation loss is less than min_delta.\n",
    "If this happens for `patience` number of epochs, training is halted"
   ]
  },
  {
   "cell_type": "markdown",
   "metadata": {},
   "source": [
    "##### train"
   ]
  },
  {
   "cell_type": "code",
   "execution_count": 98,
   "metadata": {},
   "outputs": [],
   "source": [
    "# encode and decode the test data\n",
    "\n",
    "# encode\n",
    "encoded_images = encoder.predict(x_test)\n",
    "\n",
    "# decode\n",
    "decoded_images = decoder.predict(encoded_images)\n"
   ]
  },
  {
   "cell_type": "code",
   "execution_count": 99,
   "metadata": {},
   "outputs": [
    {
     "name": "stdout",
     "output_type": "stream",
     "text": [
      "Train on 60000 samples, validate on 10000 samples\n",
      "Epoch 1/64\n",
      "59904/60000 [============================>.] - ETA: 0s - loss: 0.6942\n",
      "Epoch 00001: val_loss improved from 0.69430 to 0.69405, saving model to .model_autoencoder.weights.hdf5\n",
      "60000/60000 [==============================] - 3s 56us/sample - loss: 0.6942 - val_loss: 0.6940\n",
      "Epoch 2/64\n",
      "59392/60000 [============================>.] - ETA: 0s - loss: 0.6939\n",
      "Epoch 00002: val_loss improved from 0.69405 to 0.69380, saving model to .model_autoencoder.weights.hdf5\n",
      "60000/60000 [==============================] - 3s 57us/sample - loss: 0.6939 - val_loss: 0.6938\n",
      "Epoch 3/64\n",
      "59136/60000 [============================>.] - ETA: 0s - loss: 0.6937\n",
      "Epoch 00003: val_loss improved from 0.69380 to 0.69356, saving model to .model_autoencoder.weights.hdf5\n",
      "60000/60000 [==============================] - 3s 57us/sample - loss: 0.6937 - val_loss: 0.6936\n",
      "Epoch 4/64\n",
      "59392/60000 [============================>.] - ETA: 0s - loss: 0.6935\n",
      "Epoch 00004: val_loss improved from 0.69356 to 0.69333, saving model to .model_autoencoder.weights.hdf5\n",
      "60000/60000 [==============================] - 3s 57us/sample - loss: 0.6935 - val_loss: 0.6933\n",
      "Epoch 5/64\n",
      "59392/60000 [============================>.] - ETA: 0s - loss: 0.6932\n",
      "Epoch 00005: val_loss improved from 0.69333 to 0.69310, saving model to .model_autoencoder.weights.hdf5\n",
      "60000/60000 [==============================] - 4s 64us/sample - loss: 0.6932 - val_loss: 0.6931\n",
      "Epoch 6/64\n",
      "59392/60000 [============================>.] - ETA: 0s - loss: 0.6930\n",
      "Epoch 00006: val_loss improved from 0.69310 to 0.69288, saving model to .model_autoencoder.weights.hdf5\n",
      "60000/60000 [==============================] - 3s 58us/sample - loss: 0.6930 - val_loss: 0.6929\n",
      "Epoch 7/64\n",
      "59904/60000 [============================>.] - ETA: 0s - loss: 0.6928\n",
      "Epoch 00007: val_loss improved from 0.69288 to 0.69266, saving model to .model_autoencoder.weights.hdf5\n",
      "60000/60000 [==============================] - 4s 63us/sample - loss: 0.6928 - val_loss: 0.6927\n",
      "Epoch 8/64\n",
      "59136/60000 [============================>.] - ETA: 0s - loss: 0.6926\n",
      "Epoch 00008: val_loss improved from 0.69266 to 0.69245, saving model to .model_autoencoder.weights.hdf5\n",
      "60000/60000 [==============================] - 4s 61us/sample - loss: 0.6926 - val_loss: 0.6924\n",
      "Epoch 9/64\n",
      "59648/60000 [============================>.] - ETA: 0s - loss: 0.6924\n",
      "Epoch 00009: val_loss improved from 0.69245 to 0.69224, saving model to .model_autoencoder.weights.hdf5\n",
      "60000/60000 [==============================] - 4s 60us/sample - loss: 0.6924 - val_loss: 0.6922\n",
      "Epoch 10/64\n",
      "59648/60000 [============================>.] - ETA: 0s - loss: 0.6922\n",
      "Epoch 00010: val_loss improved from 0.69224 to 0.69203, saving model to .model_autoencoder.weights.hdf5\n",
      "60000/60000 [==============================] - 4s 59us/sample - loss: 0.6922 - val_loss: 0.6920\n",
      "Epoch 11/64\n",
      "59648/60000 [============================>.] - ETA: 0s - loss: 0.6920\n",
      "Epoch 00011: val_loss improved from 0.69203 to 0.69183, saving model to .model_autoencoder.weights.hdf5\n",
      "60000/60000 [==============================] - 4s 60us/sample - loss: 0.6920 - val_loss: 0.6918\n",
      "Epoch 12/64\n",
      "59136/60000 [============================>.] - ETA: 0s - loss: 0.6917\n",
      "Epoch 00012: val_loss improved from 0.69183 to 0.69162, saving model to .model_autoencoder.weights.hdf5\n",
      "60000/60000 [==============================] - 4s 62us/sample - loss: 0.6917 - val_loss: 0.6916\n",
      "Epoch 13/64\n",
      "59904/60000 [============================>.] - ETA: 0s - loss: 0.6915\n",
      "Epoch 00013: val_loss improved from 0.69162 to 0.69142, saving model to .model_autoencoder.weights.hdf5\n",
      "60000/60000 [==============================] - 4s 60us/sample - loss: 0.6915 - val_loss: 0.6914\n",
      "Epoch 14/64\n",
      "59904/60000 [============================>.] - ETA: 0s - loss: 0.6913\n",
      "Epoch 00014: val_loss improved from 0.69142 to 0.69123, saving model to .model_autoencoder.weights.hdf5\n",
      "60000/60000 [==============================] - 4s 59us/sample - loss: 0.6913 - val_loss: 0.6912\n",
      "Epoch 15/64\n",
      "59904/60000 [============================>.] - ETA: 0s - loss: 0.6912\n",
      "Epoch 00015: val_loss improved from 0.69123 to 0.69103, saving model to .model_autoencoder.weights.hdf5\n",
      "60000/60000 [==============================] - 4s 61us/sample - loss: 0.6912 - val_loss: 0.6910\n",
      "Epoch 16/64\n",
      "59136/60000 [============================>.] - ETA: 0s - loss: 0.6910\n",
      "Epoch 00016: val_loss improved from 0.69103 to 0.69083, saving model to .model_autoencoder.weights.hdf5\n",
      "60000/60000 [==============================] - 4s 60us/sample - loss: 0.6910 - val_loss: 0.6908\n",
      "Epoch 17/64\n",
      "59648/60000 [============================>.] - ETA: 0s - loss: 0.6908\n",
      "Epoch 00017: val_loss improved from 0.69083 to 0.69064, saving model to .model_autoencoder.weights.hdf5\n",
      "60000/60000 [==============================] - 4s 64us/sample - loss: 0.6908 - val_loss: 0.6906\n",
      "Epoch 18/64\n",
      "59648/60000 [============================>.] - ETA: 0s - loss: 0.6906\n",
      "Epoch 00018: val_loss improved from 0.69064 to 0.69044, saving model to .model_autoencoder.weights.hdf5\n",
      "60000/60000 [==============================] - 3s 58us/sample - loss: 0.6906 - val_loss: 0.6904\n",
      "Epoch 19/64\n",
      "59392/60000 [============================>.] - ETA: 0s - loss: 0.6904\n",
      "Epoch 00019: val_loss improved from 0.69044 to 0.69025, saving model to .model_autoencoder.weights.hdf5\n",
      "60000/60000 [==============================] - 4s 59us/sample - loss: 0.6904 - val_loss: 0.6902\n",
      "Epoch 20/64\n",
      "59136/60000 [============================>.] - ETA: 0s - loss: 0.6902\n",
      "Epoch 00020: val_loss improved from 0.69025 to 0.69005, saving model to .model_autoencoder.weights.hdf5\n",
      "60000/60000 [==============================] - 4s 65us/sample - loss: 0.6902 - val_loss: 0.6901\n",
      "Epoch 21/64\n",
      "58880/60000 [============================>.] - ETA: 0s - loss: 0.6900\n",
      "Epoch 00021: val_loss improved from 0.69005 to 0.68985, saving model to .model_autoencoder.weights.hdf5\n",
      "60000/60000 [==============================] - 3s 56us/sample - loss: 0.6900 - val_loss: 0.6899\n",
      "Epoch 22/64\n",
      "59136/60000 [============================>.] - ETA: 0s - loss: 0.6898\n",
      "Epoch 00022: val_loss improved from 0.68985 to 0.68966, saving model to .model_autoencoder.weights.hdf5\n",
      "60000/60000 [==============================] - 3s 48us/sample - loss: 0.6898 - val_loss: 0.6897\n",
      "Epoch 23/64\n",
      "59392/60000 [============================>.] - ETA: 0s - loss: 0.6896\n",
      "Epoch 00023: val_loss improved from 0.68966 to 0.68946, saving model to .model_autoencoder.weights.hdf5\n",
      "60000/60000 [==============================] - 3s 47us/sample - loss: 0.6896 - val_loss: 0.6895\n",
      "Epoch 24/64\n",
      "59136/60000 [============================>.] - ETA: 0s - loss: 0.6894\n",
      "Epoch 00024: val_loss improved from 0.68946 to 0.68926, saving model to .model_autoencoder.weights.hdf5\n",
      "60000/60000 [==============================] - 3s 49us/sample - loss: 0.6894 - val_loss: 0.6893\n",
      "Epoch 25/64\n",
      "59392/60000 [============================>.] - ETA: 0s - loss: 0.6892\n",
      "Epoch 00025: val_loss improved from 0.68926 to 0.68906, saving model to .model_autoencoder.weights.hdf5\n",
      "60000/60000 [==============================] - 3s 48us/sample - loss: 0.6892 - val_loss: 0.6891\n",
      "Epoch 26/64\n",
      "59648/60000 [============================>.] - ETA: 0s - loss: 0.6890\n",
      "Epoch 00026: val_loss improved from 0.68906 to 0.68885, saving model to .model_autoencoder.weights.hdf5\n",
      "60000/60000 [==============================] - 3s 46us/sample - loss: 0.6890 - val_loss: 0.6889\n",
      "Epoch 27/64\n",
      "59136/60000 [============================>.] - ETA: 0s - loss: 0.6888\n",
      "Epoch 00027: val_loss improved from 0.68885 to 0.68865, saving model to .model_autoencoder.weights.hdf5\n",
      "60000/60000 [==============================] - 3s 48us/sample - loss: 0.6888 - val_loss: 0.6886\n",
      "Epoch 28/64\n",
      "59392/60000 [============================>.] - ETA: 0s - loss: 0.6886\n",
      "Epoch 00028: val_loss improved from 0.68865 to 0.68844, saving model to .model_autoencoder.weights.hdf5\n",
      "60000/60000 [==============================] - 3s 48us/sample - loss: 0.6886 - val_loss: 0.6884\n",
      "Epoch 29/64\n",
      "59904/60000 [============================>.] - ETA: 0s - loss: 0.6884\n",
      "Epoch 00029: val_loss improved from 0.68844 to 0.68823, saving model to .model_autoencoder.weights.hdf5\n",
      "60000/60000 [==============================] - 3s 47us/sample - loss: 0.6884 - val_loss: 0.6882\n"
     ]
    },
    {
     "name": "stdout",
     "output_type": "stream",
     "text": [
      "Epoch 30/64\n",
      "59648/60000 [============================>.] - ETA: 0s - loss: 0.6881\n",
      "Epoch 00030: val_loss improved from 0.68823 to 0.68802, saving model to .model_autoencoder.weights.hdf5\n",
      "60000/60000 [==============================] - 3s 47us/sample - loss: 0.6881 - val_loss: 0.6880\n",
      "Epoch 31/64\n",
      "59136/60000 [============================>.] - ETA: 0s - loss: 0.6879\n",
      "Epoch 00031: val_loss improved from 0.68802 to 0.68780, saving model to .model_autoencoder.weights.hdf5\n",
      "60000/60000 [==============================] - 3s 47us/sample - loss: 0.6879 - val_loss: 0.6878\n",
      "Epoch 32/64\n",
      "59136/60000 [============================>.] - ETA: 0s - loss: 0.6877\n",
      "Epoch 00032: val_loss improved from 0.68780 to 0.68759, saving model to .model_autoencoder.weights.hdf5\n",
      "60000/60000 [==============================] - 3s 48us/sample - loss: 0.6877 - val_loss: 0.6876\n",
      "Epoch 33/64\n",
      "59904/60000 [============================>.] - ETA: 0s - loss: 0.6875\n",
      "Epoch 00033: val_loss improved from 0.68759 to 0.68736, saving model to .model_autoencoder.weights.hdf5\n",
      "60000/60000 [==============================] - 3s 46us/sample - loss: 0.6875 - val_loss: 0.6874\n",
      "Epoch 34/64\n",
      "59136/60000 [============================>.] - ETA: 0s - loss: 0.6873\n",
      "Epoch 00034: val_loss improved from 0.68736 to 0.68714, saving model to .model_autoencoder.weights.hdf5\n",
      "60000/60000 [==============================] - 3s 46us/sample - loss: 0.6873 - val_loss: 0.6871\n",
      "Epoch 35/64\n",
      "59136/60000 [============================>.] - ETA: 0s - loss: 0.6870\n",
      "Epoch 00035: val_loss improved from 0.68714 to 0.68691, saving model to .model_autoencoder.weights.hdf5\n",
      "60000/60000 [==============================] - 3s 46us/sample - loss: 0.6870 - val_loss: 0.6869\n",
      "Epoch 36/64\n",
      "59904/60000 [============================>.] - ETA: 0s - loss: 0.6868\n",
      "Epoch 00036: val_loss improved from 0.68691 to 0.68668, saving model to .model_autoencoder.weights.hdf5\n",
      "60000/60000 [==============================] - 3s 47us/sample - loss: 0.6868 - val_loss: 0.6867\n",
      "Epoch 37/64\n",
      "59136/60000 [============================>.] - ETA: 0s - loss: 0.6866\n",
      "Epoch 00037: val_loss improved from 0.68668 to 0.68645, saving model to .model_autoencoder.weights.hdf5\n",
      "60000/60000 [==============================] - 3s 47us/sample - loss: 0.6866 - val_loss: 0.6864\n",
      "Epoch 38/64\n",
      "59136/60000 [============================>.] - ETA: 0s - loss: 0.6864\n",
      "Epoch 00038: val_loss improved from 0.68645 to 0.68621, saving model to .model_autoencoder.weights.hdf5\n",
      "60000/60000 [==============================] - 3s 46us/sample - loss: 0.6863 - val_loss: 0.6862\n",
      "Epoch 39/64\n",
      "59136/60000 [============================>.] - ETA: 0s - loss: 0.6861\n",
      "Epoch 00039: val_loss improved from 0.68621 to 0.68597, saving model to .model_autoencoder.weights.hdf5\n",
      "60000/60000 [==============================] - 3s 47us/sample - loss: 0.6861 - val_loss: 0.6860\n",
      "Epoch 40/64\n",
      "59904/60000 [============================>.] - ETA: 0s - loss: 0.6859\n",
      "Epoch 00040: val_loss improved from 0.68597 to 0.68572, saving model to .model_autoencoder.weights.hdf5\n",
      "60000/60000 [==============================] - 3s 48us/sample - loss: 0.6859 - val_loss: 0.6857\n",
      "Epoch 41/64\n",
      "59136/60000 [============================>.] - ETA: 0s - loss: 0.6856\n",
      "Epoch 00041: val_loss improved from 0.68572 to 0.68547, saving model to .model_autoencoder.weights.hdf5\n",
      "60000/60000 [==============================] - 3s 46us/sample - loss: 0.6856 - val_loss: 0.6855\n",
      "Epoch 42/64\n",
      "59392/60000 [============================>.] - ETA: 0s - loss: 0.6854\n",
      "Epoch 00042: val_loss improved from 0.68547 to 0.68521, saving model to .model_autoencoder.weights.hdf5\n",
      "60000/60000 [==============================] - 3s 46us/sample - loss: 0.6854 - val_loss: 0.6852\n",
      "Epoch 43/64\n",
      "58880/60000 [============================>.] - ETA: 0s - loss: 0.6851\n",
      "Epoch 00043: val_loss improved from 0.68521 to 0.68495, saving model to .model_autoencoder.weights.hdf5\n",
      "60000/60000 [==============================] - 3s 46us/sample - loss: 0.6851 - val_loss: 0.6850\n",
      "Epoch 44/64\n",
      "59904/60000 [============================>.] - ETA: 0s - loss: 0.6848\n",
      "Epoch 00044: val_loss improved from 0.68495 to 0.68469, saving model to .model_autoencoder.weights.hdf5\n",
      "60000/60000 [==============================] - 3s 47us/sample - loss: 0.6848 - val_loss: 0.6847\n",
      "Epoch 45/64\n",
      "59648/60000 [============================>.] - ETA: 0s - loss: 0.6846\n",
      "Epoch 00045: val_loss improved from 0.68469 to 0.68441, saving model to .model_autoencoder.weights.hdf5\n",
      "60000/60000 [==============================] - 3s 47us/sample - loss: 0.6846 - val_loss: 0.6844\n",
      "Epoch 46/64\n",
      "59136/60000 [============================>.] - ETA: 0s - loss: 0.6843\n",
      "Epoch 00046: val_loss improved from 0.68441 to 0.68414, saving model to .model_autoencoder.weights.hdf5\n",
      "60000/60000 [==============================] - 3s 47us/sample - loss: 0.6843 - val_loss: 0.6841\n",
      "Epoch 47/64\n",
      "59904/60000 [============================>.] - ETA: 0s - loss: 0.6840\n",
      "Epoch 00047: val_loss improved from 0.68414 to 0.68385, saving model to .model_autoencoder.weights.hdf5\n",
      "60000/60000 [==============================] - 3s 46us/sample - loss: 0.6840 - val_loss: 0.6839\n",
      "Epoch 48/64\n",
      "59648/60000 [============================>.] - ETA: 0s - loss: 0.6837\n",
      "Epoch 00048: val_loss improved from 0.68385 to 0.68357, saving model to .model_autoencoder.weights.hdf5\n",
      "60000/60000 [==============================] - 3s 46us/sample - loss: 0.6837 - val_loss: 0.6836\n",
      "Epoch 49/64\n",
      "59392/60000 [============================>.] - ETA: 0s - loss: 0.6834\n",
      "Epoch 00049: val_loss improved from 0.68357 to 0.68327, saving model to .model_autoencoder.weights.hdf5\n",
      "60000/60000 [==============================] - 3s 49us/sample - loss: 0.6834 - val_loss: 0.6833\n",
      "Epoch 50/64\n",
      "59392/60000 [============================>.] - ETA: 0s - loss: 0.6831\n",
      "Epoch 00050: val_loss improved from 0.68327 to 0.68297, saving model to .model_autoencoder.weights.hdf5\n",
      "60000/60000 [==============================] - 3s 48us/sample - loss: 0.6831 - val_loss: 0.6830\n",
      "Epoch 51/64\n",
      "59392/60000 [============================>.] - ETA: 0s - loss: 0.6828\n",
      "Epoch 00051: val_loss improved from 0.68297 to 0.68266, saving model to .model_autoencoder.weights.hdf5\n",
      "60000/60000 [==============================] - 3s 48us/sample - loss: 0.6828 - val_loss: 0.6827\n",
      "Epoch 52/64\n",
      "58880/60000 [============================>.] - ETA: 0s - loss: 0.6825\n",
      "Epoch 00052: val_loss improved from 0.68266 to 0.68235, saving model to .model_autoencoder.weights.hdf5\n",
      "60000/60000 [==============================] - 3s 47us/sample - loss: 0.6825 - val_loss: 0.6824\n",
      "Epoch 53/64\n",
      "59392/60000 [============================>.] - ETA: 0s - loss: 0.6822\n",
      "Epoch 00053: val_loss improved from 0.68235 to 0.68203, saving model to .model_autoencoder.weights.hdf5\n",
      "60000/60000 [==============================] - 3s 49us/sample - loss: 0.6822 - val_loss: 0.6820\n",
      "Epoch 54/64\n",
      "59904/60000 [============================>.] - ETA: 0s - loss: 0.6819\n",
      "Epoch 00054: val_loss improved from 0.68203 to 0.68171, saving model to .model_autoencoder.weights.hdf5\n",
      "60000/60000 [==============================] - 4s 58us/sample - loss: 0.6819 - val_loss: 0.6817\n",
      "Epoch 55/64\n",
      "59648/60000 [============================>.] - ETA: 0s - loss: 0.6816\n",
      "Epoch 00055: val_loss improved from 0.68171 to 0.68138, saving model to .model_autoencoder.weights.hdf5\n",
      "60000/60000 [==============================] - 4s 66us/sample - loss: 0.6816 - val_loss: 0.6814\n",
      "Epoch 56/64\n",
      "59136/60000 [============================>.] - ETA: 0s - loss: 0.6812\n",
      "Epoch 00056: val_loss improved from 0.68138 to 0.68104, saving model to .model_autoencoder.weights.hdf5\n",
      "60000/60000 [==============================] - 4s 60us/sample - loss: 0.6812 - val_loss: 0.6810\n",
      "Epoch 57/64\n",
      "59136/60000 [============================>.] - ETA: 0s - loss: 0.6809\n",
      "Epoch 00057: val_loss improved from 0.68104 to 0.68070, saving model to .model_autoencoder.weights.hdf5\n",
      "60000/60000 [==============================] - 4s 59us/sample - loss: 0.6809 - val_loss: 0.6807\n",
      "Epoch 58/64\n",
      "59392/60000 [============================>.] - ETA: 0s - loss: 0.6805\n",
      "Epoch 00058: val_loss improved from 0.68070 to 0.68035, saving model to .model_autoencoder.weights.hdf5\n",
      "60000/60000 [==============================] - 4s 60us/sample - loss: 0.6805 - val_loss: 0.6803\n",
      "Epoch 59/64\n"
     ]
    },
    {
     "name": "stdout",
     "output_type": "stream",
     "text": [
      "59136/60000 [============================>.] - ETA: 0s - loss: 0.6802\n",
      "Epoch 00059: val_loss improved from 0.68035 to 0.67999, saving model to .model_autoencoder.weights.hdf5\n",
      "60000/60000 [==============================] - 3s 55us/sample - loss: 0.6802 - val_loss: 0.6800\n",
      "Epoch 60/64\n",
      "59904/60000 [============================>.] - ETA: 0s - loss: 0.6798\n",
      "Epoch 00060: val_loss improved from 0.67999 to 0.67963, saving model to .model_autoencoder.weights.hdf5\n",
      "60000/60000 [==============================] - 3s 55us/sample - loss: 0.6798 - val_loss: 0.6796\n",
      "Epoch 61/64\n",
      "59136/60000 [============================>.] - ETA: 0s - loss: 0.6795\n",
      "Epoch 00061: val_loss improved from 0.67963 to 0.67926, saving model to .model_autoencoder.weights.hdf5\n",
      "60000/60000 [==============================] - 3s 55us/sample - loss: 0.6795 - val_loss: 0.6793\n",
      "Epoch 62/64\n",
      "59392/60000 [============================>.] - ETA: 0s - loss: 0.6791\n",
      "Epoch 00062: val_loss improved from 0.67926 to 0.67888, saving model to .model_autoencoder.weights.hdf5\n",
      "60000/60000 [==============================] - 3s 55us/sample - loss: 0.6791 - val_loss: 0.6789\n",
      "Epoch 63/64\n",
      "59904/60000 [============================>.] - ETA: 0s - loss: 0.6787\n",
      "Epoch 00063: val_loss improved from 0.67888 to 0.67850, saving model to .model_autoencoder.weights.hdf5\n",
      "60000/60000 [==============================] - 3s 55us/sample - loss: 0.6787 - val_loss: 0.6785\n",
      "Epoch 64/64\n",
      "59136/60000 [============================>.] - ETA: 0s - loss: 0.6783\n",
      "Epoch 00064: val_loss improved from 0.67850 to 0.67811, saving model to .model_autoencoder.weights.hdf5\n",
      "60000/60000 [==============================] - 3s 55us/sample - loss: 0.6783 - val_loss: 0.6781\n"
     ]
    },
    {
     "data": {
      "text/plain": [
       "<tensorflow.python.keras.callbacks.History at 0x7fb404df2950>"
      ]
     },
     "execution_count": 99,
     "metadata": {},
     "output_type": "execute_result"
    }
   ],
   "source": [
    "epochs = 64\n",
    "\n",
    "auto_encoder.fit(x_train, x_train, epochs=epochs, batch_size=256,\n",
    "                 validation_data=(x_test, x_test),\n",
    "                callbacks=[checkpnt_1, checkpnt_2])"
   ]
  },
  {
   "cell_type": "code",
   "execution_count": 100,
   "metadata": {},
   "outputs": [],
   "source": [
    "# load the best model\n",
    "auto_encoder.load_weights(model_path)\n",
    "\n",
    "encoded_images = encoder.predict(x_test)\n",
    "decoded_images = decoder.predict(encoded_images)"
   ]
  },
  {
   "cell_type": "markdown",
   "metadata": {},
   "source": [
    "##### display the output"
   ]
  },
  {
   "cell_type": "code",
   "execution_count": 101,
   "metadata": {},
   "outputs": [
    {
     "data": {
      "image/png": "[encoded data removed]",
      "text/plain": [
       "<Figure size 1440x648 with 16 Axes>"
      ]
     },
     "metadata": {
      "needs_background": "light"
     },
     "output_type": "display_data"
    }
   ],
   "source": [
    "n_display_items = 8\n",
    "\n",
    "\n",
    "plt.figure(figsize=(20, 9))\n",
    "\n",
    "for i in range(n_display_items):\n",
    "    # Before compression\n",
    "    \n",
    "    graph = plt.subplot(2, n_display_items, i + 1)\n",
    "    plt.imshow(x_test[i].reshape([28, 28]))\n",
    "    \n",
    "    graph.get_xaxis().set_visible(False)\n",
    "    graph.get_yaxis().set_visible(False)\n",
    "    \n",
    "    # After compression\n",
    "    \n",
    "      \n",
    "    graph = plt.subplot(2, n_display_items, i + 1 + n_display_items)\n",
    "    plt.imshow(decoded_images[i].reshape([28, 28]))\n",
    "    graph.get_xaxis().set_visible(False)\n",
    "    graph.get_yaxis().set_visible(False)\n",
    "  \n",
    "\n",
    "plt.show()"
   ]
  },
  {
   "cell_type": "code",
   "execution_count": null,
   "metadata": {},
   "outputs": [],
   "source": []
  }
 ],
 "metadata": {
  "kernelspec": {
   "display_name": "tfs",
   "language": "python",
   "name": "tfs"
  },
  "language_info": {
   "codemirror_mode": {
    "name": "ipython",
    "version": 3
   },
   "file_extension": ".py",
   "mimetype": "text/x-python",
   "name": "python",
   "nbconvert_exporter": "python",
   "pygments_lexer": "ipython3",
   "version": "3.7.4"
  }
 },
 "nbformat": 4,
 "nbformat_minor": 2
}
