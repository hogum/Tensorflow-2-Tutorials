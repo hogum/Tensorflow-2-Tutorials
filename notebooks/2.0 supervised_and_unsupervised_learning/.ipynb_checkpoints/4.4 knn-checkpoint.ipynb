{
 "cells": [
  {
   "cell_type": "markdown",
   "metadata": {},
   "source": [
    "# Classification: K Nearest Neighbours"
   ]
  },
  {
   "cell_type": "markdown",
   "metadata": {},
   "source": [
    "#### Classification with Iris Dataset"
   ]
  },
  {
   "cell_type": "markdown",
   "metadata": {},
   "source": [
    "The KNN Classifier labels a data point by observing its distance relative to the points present in the existing dataset"
   ]
  },
  {
   "cell_type": "code",
   "execution_count": 4,
   "metadata": {},
   "outputs": [],
   "source": [
    "import tensorflow as tf\n",
    "import numpy as np\n",
    "from sklearn import datasets"
   ]
  },
  {
   "cell_type": "code",
   "execution_count": 147,
   "metadata": {},
   "outputs": [],
   "source": [
    "k = 5 # No. of clusters"
   ]
  },
  {
   "cell_type": "markdown",
   "metadata": {},
   "source": [
    "#### load and preprocess dataset\n"
   ]
  },
  {
   "cell_type": "code",
   "execution_count": 169,
   "metadata": {},
   "outputs": [],
   "source": [
    "iris = datasets.load_iris()\n",
    "x = iris.data\n",
    "y = iris.target"
   ]
  },
  {
   "cell_type": "code",
   "execution_count": 170,
   "metadata": {},
   "outputs": [
    {
     "data": {
      "text/plain": [
       "(150, 4)"
      ]
     },
     "execution_count": 170,
     "metadata": {},
     "output_type": "execute_result"
    }
   ],
   "source": [
    "x.shape"
   ]
  },
  {
   "cell_type": "code",
   "execution_count": 171,
   "metadata": {},
   "outputs": [],
   "source": [
    "flower_labels = ['iris setosa', 'iris virginica', 'iris versicolor']\n"
   ]
  },
  {
   "cell_type": "code",
   "execution_count": 172,
   "metadata": {},
   "outputs": [],
   "source": [
    "# one hot encoding if labels\n",
    "y_unique = np.unique(y)\n",
    "y  = np.eye(y_unique.size)[y]\n",
    "\n",
    "\n",
    "# Normalize features\n",
    "\n",
    "x_min = x.min(axis=0)\n",
    "x = (x - x_min) / (x.max(axis=0) - x_min)\n",
    "\n",
    "# Split dataset\n",
    "\n",
    "split = .85\n",
    "n_features = x.shape[0]\n",
    "\n",
    "np.random.shuffle(x)\n",
    "train_idx = np.random.choice(n_features, size=int(n_features * split), replace=False)\n",
    "test_idx = np.array(list(set(range(n_features))- set(train_idx)))\n",
    "\n",
    "x_train = x[train_idx]\n",
    "x_test = x[test_idx]\n",
    "\n",
    "y_train = y[train_idx]\n",
    "y_test = y[test_idx]"
   ]
  },
  {
   "cell_type": "code",
   "execution_count": 173,
   "metadata": {},
   "outputs": [
    {
     "data": {
      "text/plain": [
       "(23, 3)"
      ]
     },
     "execution_count": 173,
     "metadata": {},
     "output_type": "execute_result"
    }
   ],
   "source": [
    "y_test.shape"
   ]
  },
  {
   "cell_type": "code",
   "execution_count": 174,
   "metadata": {},
   "outputs": [],
   "source": [
    "def get_distances(x, y, x_test, k):\n",
    "    \"\"\"\n",
    "        Gets the Manhattan distances between the data points\n",
    "        |x1 - x2|\n",
    "    \"\"\"\n",
    "    d0 = tf.expand_dims(x_test, axis=1)\n",
    "    d1 = tf.abs(tf.subtract(x_train, d0))\n",
    "    return tf.reduce_sum(input_tensor=d1, axis=2)\n"
   ]
  },
  {
   "cell_type": "code",
   "execution_count": 175,
   "metadata": {},
   "outputs": [],
   "source": [
    "def predict():\n",
    "    \"\"\"\n",
    "        Predicts labels\n",
    "    \"\"\"\n",
    "    \n",
    "    distances = get_distances(x_train, y_train, x_test, k)\n",
    "    \n",
    "    # Get indices of the KNN\n",
    "    _, k_indices = tf.nn.top_k(tf.negative(distances), k=k)\n",
    "\n",
    "    # Get labels associated with top k indices\n",
    "    k_labels = tf.gather(y_train, k_indices)\n",
    "    print('k_lables: ', k_labels.shape)\n",
    "\n",
    "    pred_sum = tf.reduce_sum(input_tensor=k_labels, axis=1)\n",
    "    \n",
    "    # Predict labels from the index of the maximum\n",
    "    pred = tf.argmax(pred_sum, axis=1)\n",
    "    \n",
    "    return pred\n",
    "    "
   ]
  },
  {
   "cell_type": "code",
   "execution_count": 176,
   "metadata": {},
   "outputs": [],
   "source": [
    "def find_clusters():\n",
    "    \"\"\"\n",
    "        Compares the predicted to actual labels\n",
    "    \"\"\"\n",
    "    \n",
    "    y_pred = predict()\n",
    "    true_pred = zip(y_pred, y_test)\n",
    "    print('Pred        Actual')\n",
    "    \n",
    "    acc = np.sum(y_pred == y_test)\n",
    "    \n",
    "    for i, (pred, true) in enumerate(true_pred):\n",
    "        print(f'{i} {flower_labels[pred.numpy()]}\\t\\t{flower_labels[np.argmax(true)]}')"
   ]
  },
  {
   "cell_type": "code",
   "execution_count": 189,
   "metadata": {},
   "outputs": [],
   "source": [
    "find_clusters()"
   ]
  },
  {
   "cell_type": "markdown",
   "metadata": {},
   "source": [
    "##### Evaluate accuracy"
   ]
  },
  {
   "cell_type": "code",
   "execution_count": 178,
   "metadata": {},
   "outputs": [
    {
     "name": "stdout",
     "output_type": "stream",
     "text": [
      "k_lables:  (23, 5, 3)\n"
     ]
    }
   ],
   "source": [
    "y_pred = predict()"
   ]
  },
  {
   "cell_type": "code",
   "execution_count": 179,
   "metadata": {},
   "outputs": [],
   "source": [
    "acc = np.sum(y_pred.numpy() == np.argmax(y_test, axis=1)) / y_test.shape[0]"
   ]
  },
  {
   "cell_type": "code",
   "execution_count": 180,
   "metadata": {},
   "outputs": [
    {
     "data": {
      "text/plain": [
       "0.2608695652173913"
      ]
     },
     "execution_count": 180,
     "metadata": {},
     "output_type": "execute_result"
    }
   ],
   "source": [
    "acc"
   ]
  }
 ],
 "metadata": {
  "kernelspec": {
   "display_name": "tfs",
   "language": "python",
   "name": "tfs"
  },
  "language_info": {
   "codemirror_mode": {
    "name": "ipython",
    "version": 3
   },
   "file_extension": ".py",
   "mimetype": "text/x-python",
   "name": "python",
   "nbconvert_exporter": "python",
   "pygments_lexer": "ipython3",
   "version": "3.7.4"
  }
 },
 "nbformat": 4,
 "nbformat_minor": 2
}
