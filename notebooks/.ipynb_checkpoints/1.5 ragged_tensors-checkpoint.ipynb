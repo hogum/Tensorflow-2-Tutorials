{
 "cells": [
  {
   "cell_type": "markdown",
   "metadata": {},
   "source": [
    "## Ragged Tensors"
   ]
  },
  {
   "cell_type": "raw",
   "metadata": {},
   "source": [
    "A ragged tensor has slices that may have different lengths\n"
   ]
  },
  {
   "cell_type": "code",
   "execution_count": 5,
   "metadata": {},
   "outputs": [],
   "source": [
    "import tensorflow as tf"
   ]
  },
  {
   "cell_type": "code",
   "execution_count": 6,
   "metadata": {},
   "outputs": [],
   "source": [
    "# Declaring a constant rugged array\n",
    "\n",
    "ragged =tf.ragged.constant([[34, 25, 72, 11],\n",
    "                            [42],\n",
    "                            [24, 0, 92],\n",
    "                            [],\n",
    "                            [20, 23]]\n",
    "                          )"
   ]
  },
  {
   "cell_type": "code",
   "execution_count": 7,
   "metadata": {},
   "outputs": [
    {
     "name": "stdout",
     "output_type": "stream",
     "text": [
      "tf.RaggedTensor(values=Tensor(\"RaggedConstant_1/values:0\", shape=(10,), dtype=int32), row_splits=Tensor(\"RaggedConstant_1/Const:0\", shape=(6,), dtype=int64))\n",
      "Tensor(\"RaggedGetItem_5/strided_slice_5:0\", shape=(4,), dtype=int32)\n",
      "Tensor(\"RaggedGetItem_6/strided_slice_5:0\", shape=(1,), dtype=int32)\n",
      "Tensor(\"RaggedGetItem_7/strided_slice_5:0\", shape=(3,), dtype=int32)\n",
      "Tensor(\"RaggedGetItem_8/strided_slice_5:0\", shape=(0,), dtype=int32)\n",
      "Tensor(\"RaggedGetItem_9/strided_slice_5:0\", shape=(2,), dtype=int32)\n"
     ]
    }
   ],
   "source": [
    "# Accessing rugged array by slices\n",
    "\n",
    "print(ragged)\n",
    "print(ragged[0,:])\n",
    "print(ragged[1,:])\n",
    "print(ragged[2,:])\n",
    "print(ragged[3,:])\n",
    "print(ragged[4,:])"
   ]
  },
  {
   "cell_type": "markdown",
   "metadata": {},
   "source": [
    "### Using `from_row_splits`"
   ]
  },
  {
   "cell_type": "markdown",
   "metadata": {},
   "source": [
    "The `from row splits` methos takes the args:\n",
    "    - `values`: list of elements to turn into rugged array\n",
    "    - `row_splits`: Positions where the value is to be split\n",
    "        "
   ]
  },
  {
   "cell_type": "code",
   "execution_count": 4,
   "metadata": {},
   "outputs": [],
   "source": [
    "# Example using  from_row_splits\n",
    "\n",
    "values=[5, 2, 6, 1, 4, 10, 7, 8, 6, 7]\n",
    "rows = [0, 4, 4, 7, 8, 10]\n",
    "\n",
    "ragged2 = tf.RaggedTensor.from_row_splits(values=values,row_splits=rows)"
   ]
  },
  {
   "cell_type": "code",
   "execution_count": 5,
   "metadata": {},
   "outputs": [
    {
     "name": "stdout",
     "output_type": "stream",
     "text": [
      "tf.RaggedTensor(values=Tensor(\"RaggedFromRowSplits/values:0\", shape=(10,), dtype=int32), row_splits=Tensor(\"RaggedFromRowSplits/control_dependency:0\", shape=(6,), dtype=int64))\n"
     ]
    }
   ],
   "source": [
    "print(ragged2)"
   ]
  }
 ],
 "metadata": {
  "kernelspec": {
   "display_name": "Python 3",
   "language": "python",
   "name": "python3"
  },
  "language_info": {
   "codemirror_mode": {
    "name": "ipython",
    "version": 3
   },
   "file_extension": ".py",
   "mimetype": "text/x-python",
   "name": "python",
   "nbconvert_exporter": "python",
   "pygments_lexer": "ipython3",
   "version": "3.7.4"
  }
 },
 "nbformat": 4,
 "nbformat_minor": 2
}
