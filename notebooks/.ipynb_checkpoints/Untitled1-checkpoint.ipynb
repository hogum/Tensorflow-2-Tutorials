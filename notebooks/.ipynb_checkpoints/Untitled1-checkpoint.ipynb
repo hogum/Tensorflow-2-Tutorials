{
 "cells": [
  {
   "cell_type": "markdown",
   "metadata": {},
   "source": [
    "# Keras Sequential Model 2"
   ]
  },
  {
   "cell_type": "markdown",
   "metadata": {},
   "source": [
    "### Building a sequential model"
   ]
  },
  {
   "cell_type": "markdown",
   "metadata": {},
   "source": [
    "#### Way 2:     Using `add` method"
   ]
  },
  {
   "cell_type": "markdown",
   "metadata": {},
   "source": [
    "- We shall load our dataset as before.\n",
    "The tweak comes when creating the model"
   ]
  },
  {
   "cell_type": "code",
   "execution_count": 4,
   "metadata": {},
   "outputs": [],
   "source": [
    "import tensorflow as tf"
   ]
  },
  {
   "cell_type": "code",
   "execution_count": 3,
   "metadata": {},
   "outputs": [],
   "source": [
    "mnist = tf.keras.datasets.mnist"
   ]
  },
  {
   "cell_type": "code",
   "execution_count": 5,
   "metadata": {},
   "outputs": [],
   "source": [
    "epochs = 20\n",
    "batch_size = 32"
   ]
  },
  {
   "cell_type": "code",
   "execution_count": 6,
   "metadata": {},
   "outputs": [],
   "source": [
    "mnist_data = mnist.load_data()\n",
    "(x_train, y_train), (x_test, y_test) = mnist_data"
   ]
  },
  {
   "cell_type": "code",
   "execution_count": 7,
   "metadata": {},
   "outputs": [],
   "source": [
    "x_train, x_test = tf.cast(x_train/255., dtype=tf.float32), tf.cast(x_test/255., dtype=tf.float32)\n",
    "y_train, y_test = tf.cast(y_train, dtype=tf.int64), tf.cast(y_test, dtype=tf.int64)"
   ]
  },
  {
   "cell_type": "markdown",
   "metadata": {},
   "source": [
    "\n",
    "Build the model\n"
   ]
  },
  {
   "cell_type": "code",
   "execution_count": 9,
   "metadata": {},
   "outputs": [],
   "source": [
    "model = tf.keras.models.Sequential()"
   ]
  },
  {
   "cell_type": "code",
   "execution_count": 11,
   "metadata": {},
   "outputs": [],
   "source": [
    "\n",
    "model.add(tf.keras.layers.Flatten())\n",
    "model.add(tf.keras.layers.Dense(512, activation=tf.nn.relu))\n",
    "model.add(tf.keras.layers.Dropout(0.2))\n",
    "model.add(tf.keras.layers.Dense(10, activation='softmax'))\n"
   ]
  },
  {
   "cell_type": "code",
   "execution_count": 15,
   "metadata": {},
   "outputs": [],
   "source": [
    "model.compile(optimizer=tf.keras.optimizers.Adam(),\n",
    "             loss='sparse_categorical_crossentropy',\n",
    "             metrics=['accuracy']\n",
    "             )"
   ]
  },
  {
   "cell_type": "markdown",
   "metadata": {},
   "source": [
    "\n",
    "Train: Fit inputs to the model outputs\n"
   ]
  },
  {
   "cell_type": "code",
   "execution_count": 16,
   "metadata": {},
   "outputs": [
    {
     "name": "stderr",
     "output_type": "stream",
     "text": [
      "WARNING: Logging before flag parsing goes to stderr.\n",
      "W0812 20:05:33.260360 140465993357120 deprecation.py:323] From /root/.virtualenvs/tfs/lib/python3.7/site-packages/tensorflow/python/ops/math_grad.py:1250: add_dispatch_support.<locals>.wrapper (from tensorflow.python.ops.array_ops) is deprecated and will be removed in a future version.\n",
      "Instructions for updating:\n",
      "Use tf.where in 2.0, which has the same broadcast rule as np.where\n"
     ]
    },
    {
     "name": "stdout",
     "output_type": "stream",
     "text": [
      "Train on 60000 samples\n",
      "Epoch 1/20\n",
      "60000/60000 [==============================] - 8s 136us/sample - loss: 0.6224 - accuracy: 0.7690\n",
      "Epoch 2/20\n",
      "60000/60000 [==============================] - 8s 128us/sample - loss: 0.1520 - accuracy: 0.9583\n",
      "Epoch 3/20\n",
      "60000/60000 [==============================] - 8s 129us/sample - loss: 0.1022 - accuracy: 0.9708\n",
      "Epoch 4/20\n",
      "60000/60000 [==============================] - 8s 127us/sample - loss: 0.0820 - accuracy: 0.9761\n",
      "Epoch 5/20\n",
      "60000/60000 [==============================] - 8s 130us/sample - loss: 0.0661 - accuracy: 0.9803\n",
      "Epoch 6/20\n",
      "60000/60000 [==============================] - 8s 129us/sample - loss: 0.0618 - accuracy: 0.9812\n",
      "Epoch 7/20\n",
      "60000/60000 [==============================] - 8s 138us/sample - loss: 0.0525 - accuracy: 0.9845\n",
      "Epoch 8/20\n",
      "60000/60000 [==============================] - 7s 118us/sample - loss: 0.0477 - accuracy: 0.9856\n",
      "Epoch 9/20\n",
      "60000/60000 [==============================] - 7s 119us/sample - loss: 0.0436 - accuracy: 0.9867\n",
      "Epoch 10/20\n",
      "60000/60000 [==============================] - 7s 114us/sample - loss: 0.0405 - accuracy: 0.9880\n",
      "Epoch 11/20\n",
      "60000/60000 [==============================] - 8s 137us/sample - loss: 0.0370 - accuracy: 0.9887\n",
      "Epoch 12/20\n",
      "60000/60000 [==============================] - 7s 119us/sample - loss: 0.0339 - accuracy: 0.9895\n",
      "Epoch 13/20\n",
      "60000/60000 [==============================] - 7s 117us/sample - loss: 0.0323 - accuracy: 0.9899\n",
      "Epoch 14/20\n",
      "60000/60000 [==============================] - 8s 134us/sample - loss: 0.0313 - accuracy: 0.9900\n",
      "Epoch 15/20\n",
      "60000/60000 [==============================] - 8s 135us/sample - loss: 0.0275 - accuracy: 0.9918\n",
      "Epoch 16/20\n",
      "60000/60000 [==============================] - 8s 135us/sample - loss: 0.0310 - accuracy: 0.9905\n",
      "Epoch 17/20\n",
      "60000/60000 [==============================] - 8s 128us/sample - loss: 0.0251 - accuracy: 0.9921\n",
      "Epoch 18/20\n",
      "60000/60000 [==============================] - 8s 134us/sample - loss: 0.0270 - accuracy: 0.9916\n",
      "Epoch 19/20\n",
      "60000/60000 [==============================] - 8s 132us/sample - loss: 0.0252 - accuracy: 0.9925\n",
      "Epoch 20/20\n",
      "60000/60000 [==============================] - 8s 132us/sample - loss: 0.0245 - accuracy: 0.9924\n"
     ]
    },
    {
     "data": {
      "text/plain": [
       "<tensorflow.python.keras.callbacks.History at 0x7fc08621aa10>"
      ]
     },
     "execution_count": 16,
     "metadata": {},
     "output_type": "execute_result"
    }
   ],
   "source": [
    "model.fit(x_train, y_train, batch_size=batch_size, epochs=epochs)"
   ]
  },
  {
   "cell_type": "code",
   "execution_count": 17,
   "metadata": {},
   "outputs": [],
   "source": [
    "# An accuracy of 99.2 is fine, a little bad ass"
   ]
  },
  {
   "cell_type": "code",
   "execution_count": 19,
   "metadata": {},
   "outputs": [
    {
     "name": "stdout",
     "output_type": "stream",
     "text": [
      "10000/10000 [==============================] - 1s 73us/sample - loss: 0.0890 - accuracy: 0.9802\n"
     ]
    },
    {
     "data": {
      "text/plain": [
       "[0.08900617957860231, 0.9802]"
      ]
     },
     "execution_count": 19,
     "metadata": {},
     "output_type": "execute_result"
    }
   ],
   "source": [
    "model.evaluate(x_test, y_test)"
   ]
  }
 ],
 "metadata": {
  "kernelspec": {
   "display_name": "tfs",
   "language": "python",
   "name": "tfs"
  },
  "language_info": {
   "codemirror_mode": {
    "name": "ipython",
    "version": 3
   },
   "file_extension": ".py",
   "mimetype": "text/x-python",
   "name": "python",
   "nbconvert_exporter": "python",
   "pygments_lexer": "ipython3",
   "version": "3.7.4"
  }
 },
 "nbformat": 4,
 "nbformat_minor": 2
}
