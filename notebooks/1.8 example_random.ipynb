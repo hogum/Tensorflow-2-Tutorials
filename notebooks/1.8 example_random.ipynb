{
 "cells": [
  {
   "cell_type": "markdown",
   "metadata": {},
   "source": [
    "## Random Values Example"
   ]
  },
  {
   "cell_type": "markdown",
   "metadata": {},
   "source": [
    "### An example use case for random values"
   ]
  },
  {
   "cell_type": "markdown",
   "metadata": {},
   "source": [
    "This example shows how to **initialize** a tf Variable from calling a random function.\n",
    "\n",
    "It also shows how to **join related tensors** for convenience in accessing similar elements"
   ]
  },
  {
   "cell_type": "code",
   "execution_count": 2,
   "metadata": {},
   "outputs": [],
   "source": [
    "import tensorflow as tf"
   ]
  },
  {
   "cell_type": "code",
   "execution_count": 24,
   "metadata": {},
   "outputs": [],
   "source": [
    "scores = tf.Variable(tf.random.uniform(shape=(5, 1), maxval=10, dtype=tf.int32))"
   ]
  },
  {
   "cell_type": "code",
   "execution_count": 8,
   "metadata": {},
   "outputs": [],
   "source": [
    "time = tf.Variable(tf.random.uniform(shape=(5, 1), minval=1, maxval=60, dtype=tf.int32))"
   ]
  },
  {
   "cell_type": "code",
   "execution_count": 12,
   "metadata": {},
   "outputs": [],
   "source": [
    "reward = tf.abs(scores - time)"
   ]
  },
  {
   "cell_type": "code",
   "execution_count": 13,
   "metadata": {},
   "outputs": [
    {
     "name": "stdout",
     "output_type": "stream",
     "text": [
      "<tf.Variable 'Variable:0' shape=(5, 1) dtype=int32, numpy=\n",
      "array([[0],\n",
      "       [1],\n",
      "       [9],\n",
      "       [3],\n",
      "       [2]], dtype=int32)>\n",
      "<tf.Variable 'Variable:0' shape=(5, 1) dtype=int32, numpy=\n",
      "array([[24],\n",
      "       [50],\n",
      "       [34],\n",
      "       [25],\n",
      "       [ 8]], dtype=int32)>\n",
      "tf.Tensor(\n",
      "[[24]\n",
      " [49]\n",
      " [25]\n",
      " [22]\n",
      " [ 6]], shape=(5, 1), dtype=int32)\n"
     ]
    }
   ],
   "source": [
    "print(scores)\n",
    "print(time)\n",
    "print(reward)"
   ]
  },
  {
   "cell_type": "raw",
   "metadata": {},
   "source": [
    "# We have the 3 tensors:\n",
    "        scores,\n",
    "        the time it took to score,\n",
    "        and the reward for that score\n",
    "        \n",
    "# Let's join them to form a single tensor"
   ]
  },
  {
   "cell_type": "code",
   "execution_count": 18,
   "metadata": {},
   "outputs": [],
   "source": [
    "game_results = tf.concat(values=(scores, time, reward), axis=1)"
   ]
  },
  {
   "cell_type": "code",
   "execution_count": 19,
   "metadata": {},
   "outputs": [
    {
     "name": "stdout",
     "output_type": "stream",
     "text": [
      "tf.Tensor(\n",
      "[[ 0 24 24]\n",
      " [ 1 50 49]\n",
      " [ 9 34 25]\n",
      " [ 3 25 22]\n",
      " [ 2  8  6]], shape=(5, 3), dtype=int32)\n"
     ]
    }
   ],
   "source": [
    "print(game_results)"
   ]
  },
  {
   "cell_type": "code",
   "execution_count": 22,
   "metadata": {},
   "outputs": [],
   "source": [
    "# We can now access the reward and the time in took to make a certain score\n",
    "# Example for the first score\n",
    "\n",
    "score1 = game_results[0].numpy()"
   ]
  },
  {
   "cell_type": "code",
   "execution_count": 26,
   "metadata": {},
   "outputs": [
    {
     "name": "stdout",
     "output_type": "stream",
     "text": [
      "First Score: 0\n",
      "\n",
      "Time taken:24, reward: 24\n"
     ]
    }
   ],
   "source": [
    "print(f'First Score: {score1[0]}\\n')\n",
    "print(f'Time taken:{score1[1]}, reward: {score1[2]}')"
   ]
  }
 ],
 "metadata": {
  "kernelspec": {
   "display_name": "Python 3",
   "language": "python",
   "name": "python3"
  },
  "language_info": {
   "codemirror_mode": {
    "name": "ipython",
    "version": 3
   },
   "file_extension": ".py",
   "mimetype": "text/x-python",
   "name": "python",
   "nbconvert_exporter": "python",
   "pygments_lexer": "ipython3",
   "version": "3.7.4"
  }
 },
 "nbformat": 4,
 "nbformat_minor": 2
}
