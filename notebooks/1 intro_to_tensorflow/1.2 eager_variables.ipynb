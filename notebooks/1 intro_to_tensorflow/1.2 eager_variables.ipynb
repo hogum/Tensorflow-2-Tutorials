{
 "cells": [
  {
   "cell_type": "markdown",
   "metadata": {},
   "source": [
    "## Declaring Tensorflow Variables and Constants\n"
   ]
  },
  {
   "cell_type": "code",
   "execution_count": 2,
   "metadata": {},
   "outputs": [],
   "source": [
    "import tensorflow as tf"
   ]
  },
  {
   "cell_type": "code",
   "execution_count": 2,
   "metadata": {},
   "outputs": [],
   "source": [
    "# Python variable\n",
    "cool_number = 7\n",
    "\n",
    "# Tensor of rank 0\n",
    "cooler_number = tf.Variable(9)\n",
    "\n",
    "# Tensor of rank 2\n",
    "cool_letters = tf.Variable([['a', 'b'], ['g', 'i']])\n"
   ]
  },
  {
   "cell_type": "code",
   "execution_count": 4,
   "metadata": {},
   "outputs": [
    {
     "name": "stdout",
     "output_type": "stream",
     "text": [
      "cool_number: 7\n",
      "cooler number: <tf.Variable 'Variable:0' shape=() dtype=int32_ref>\n",
      "Cool letters: <tf.Variable 'Variable_1:0' shape=(2, 2) dtype=string_ref>\n"
     ]
    }
   ],
   "source": [
    "# Here's our output\n",
    "\n",
    "print(f'cool_number: {cool_number}')\n",
    "print(f'cooler number: {cooler_number}')\n",
    "print(f'Cool letters: {cool_letters}')"
   ]
  },
  {
   "cell_type": "code",
   "execution_count": 8,
   "metadata": {},
   "outputs": [
    {
     "name": "stdout",
     "output_type": "stream",
     "text": [
      "const1: Tensor(\"Const:0\", shape=(), dtype=int32)\n"
     ]
    }
   ],
   "source": [
    "# Constants\n",
    "# The datatype can be explicitly specified with `dtype`\n",
    "const_1 = tf.constant(4, dtype=tf.int32)\n",
    "\n",
    "print(f'const1: {const_1}')"
   ]
  }
 ],
 "metadata": {
  "kernelspec": {
   "display_name": "Python 3",
   "language": "python",
   "name": "python3"
  },
  "language_info": {
   "codemirror_mode": {
    "name": "ipython",
    "version": 3
   },
   "file_extension": ".py",
   "mimetype": "text/x-python",
   "name": "python",
   "nbconvert_exporter": "python",
   "pygments_lexer": "ipython3",
   "version": "3.7.4"
  }
 },
 "nbformat": 4,
 "nbformat_minor": 2
}
