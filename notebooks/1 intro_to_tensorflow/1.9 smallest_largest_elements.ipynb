{
 "cells": [
  {
   "cell_type": "markdown",
   "metadata": {},
   "source": [
    "## Largest and Smallest Elements"
   ]
  },
  {
   "cell_type": "markdown",
   "metadata": {},
   "source": [
    "Finding indices of the elements with the largest or smallest values\n"
   ]
  },
  {
   "cell_type": "code",
   "execution_count": 2,
   "metadata": {},
   "outputs": [],
   "source": [
    "import tensorflow as tf"
   ]
  },
  {
   "cell_type": "markdown",
   "metadata": {},
   "source": [
    " ##### method signatures"
   ]
  },
  {
   "cell_type": "code",
   "execution_count": 3,
   "metadata": {},
   "outputs": [],
   "source": [
    "# Largest element's index\n",
    "\n",
    "# tf.argmax(input, axis=None, name=None, output_type=tf.int64 )"
   ]
  },
  {
   "cell_type": "code",
   "execution_count": 4,
   "metadata": {},
   "outputs": [],
   "source": [
    "# Smallest element's index\n",
    "\n",
    "# tf.argmin(input, axis=None, name=None, output_type=tf.int64 )"
   ]
  },
  {
   "cell_type": "code",
   "execution_count": 6,
   "metadata": {},
   "outputs": [],
   "source": [
    "a = tf.constant(tf.random.uniform(shape=(3, 3), minval=4, maxval=20, dtype=tf.int32))"
   ]
  },
  {
   "cell_type": "code",
   "execution_count": 29,
   "metadata": {},
   "outputs": [
    {
     "name": "stdout",
     "output_type": "stream",
     "text": [
      "tf.Tensor(\n",
      "[[ 8 19  6]\n",
      " [ 5 18 15]\n",
      " [12 17 10]], shape=(3, 3), dtype=int32)\n",
      "\n",
      "max indices of a:\n",
      "\n",
      "tf.Tensor([2 0 1], shape=(3,), dtype=int64)\n"
     ]
    }
   ],
   "source": [
    "print(a)\n",
    "print('\\nmax indices of a:\\n')\n",
    "print(tf.argmax(a)) # Max across rows"
   ]
  },
  {
   "cell_type": "code",
   "execution_count": 8,
   "metadata": {},
   "outputs": [
    {
     "name": "stdout",
     "output_type": "stream",
     "text": [
      "tf.Tensor([1 1 1], shape=(3,), dtype=int64)\n"
     ]
    }
   ],
   "source": [
    "# Max across columns\n",
    "print(tf.argmax(a, axis=1))"
   ]
  },
  {
   "cell_type": "markdown",
   "metadata": {},
   "source": [
    "#### Index of minimum element"
   ]
  },
  {
   "cell_type": "code",
   "execution_count": 35,
   "metadata": {},
   "outputs": [
    {
     "name": "stdout",
     "output_type": "stream",
     "text": [
      "tf.Tensor(\n",
      "[[15 16 14]\n",
      " [17 15  4]\n",
      " [ 2 10 13]\n",
      " [18  8 15]], shape=(4, 3), dtype=int32)\n",
      "tf.Tensor([2 3 1], shape=(3,), dtype=int64)\n"
     ]
    }
   ],
   "source": [
    "\n",
    "b = tf.constant(tf.random.uniform(shape=(4, 3), minval=0, maxval=20, dtype=tf.int32))"
   ]
  },
  {
   "cell_type": "code",
   "execution_count": 40,
   "metadata": {},
   "outputs": [
    {
     "name": "stdout",
     "output_type": "stream",
     "text": [
      "b:\n",
      " [[15 16 14]\n",
      " [17 15  4]\n",
      " [ 2 10 13]\n",
      " [18  8 15]]\n"
     ]
    }
   ],
   "source": [
    "print(f'b:\\n {b}')\n"
   ]
  },
  {
   "cell_type": "code",
   "execution_count": 37,
   "metadata": {},
   "outputs": [
    {
     "name": "stdout",
     "output_type": "stream",
     "text": [
      "tf.Tensor([2 3 1], shape=(3,), dtype=int64)\n"
     ]
    }
   ],
   "source": [
    "# Min across rows\n",
    "\n",
    "print(tf.argmin(b, axis=0))"
   ]
  },
  {
   "cell_type": "code",
   "execution_count": 41,
   "metadata": {},
   "outputs": [
    {
     "name": "stdout",
     "output_type": "stream",
     "text": [
      "tf.Tensor([2 2 0 1], shape=(4,), dtype=int64)\n"
     ]
    }
   ],
   "source": [
    "# Min across columns\n",
    "\n",
    "print(tf.argmin(b, axis=1))"
   ]
  },
  {
   "cell_type": "markdown",
   "metadata": {},
   "source": [
    "### Max and Min elements"
   ]
  },
  {
   "cell_type": "code",
   "execution_count": 48,
   "metadata": {},
   "outputs": [
    {
     "name": "stdout",
     "output_type": "stream",
     "text": [
      "Maximum element of b\n"
     ]
    },
    {
     "data": {
      "text/plain": [
       "18"
      ]
     },
     "execution_count": 48,
     "metadata": {},
     "output_type": "execute_result"
    }
   ],
   "source": [
    "print('Maximum element of b')\n",
    "\n",
    "tf.reduce_max(b).numpy()\n"
   ]
  },
  {
   "cell_type": "code",
   "execution_count": 49,
   "metadata": {},
   "outputs": [
    {
     "name": "stdout",
     "output_type": "stream",
     "text": [
      "Minimum element of b\n"
     ]
    },
    {
     "data": {
      "text/plain": [
       "2"
      ]
     },
     "execution_count": 49,
     "metadata": {},
     "output_type": "execute_result"
    }
   ],
   "source": [
    "print('Minimum element of b')\n",
    "tf.reduce_min(b).numpy()"
   ]
  }
 ],
 "metadata": {
  "kernelspec": {
   "display_name": "Python 3",
   "language": "python",
   "name": "python3"
  },
  "language_info": {
   "codemirror_mode": {
    "name": "ipython",
    "version": 3
   },
   "file_extension": ".py",
   "mimetype": "text/x-python",
   "name": "python",
   "nbconvert_exporter": "python",
   "pygments_lexer": "ipython3",
   "version": "3.7.4"
  }
 },
 "nbformat": 4,
 "nbformat_minor": 2
}
