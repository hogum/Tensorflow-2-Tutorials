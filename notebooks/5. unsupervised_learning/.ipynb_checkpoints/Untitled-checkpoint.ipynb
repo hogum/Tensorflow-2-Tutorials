{
 "cells": [
  {
   "cell_type": "markdown",
   "metadata": {},
   "source": [
    "# Autoencoder"
   ]
  },
  {
   "cell_type": "markdown",
   "metadata": {},
   "source": [
    "Autoencoding is a data compression and decompression algorithm implemented with an Artificial Neural Network (ANN)"
   ]
  },
  {
   "cell_type": "markdown",
   "metadata": {},
   "source": [
    "#### A one-layer autoencoder"
   ]
  },
  {
   "cell_type": "code",
   "execution_count": 2,
   "metadata": {},
   "outputs": [],
   "source": [
    "import tensorflow as tf\n",
    "import numpy as np"
   ]
  },
  {
   "cell_type": "markdown",
   "metadata": {},
   "source": [
    "###### Preprocess the data"
   ]
  },
  {
   "cell_type": "code",
   "execution_count": 11,
   "metadata": {},
   "outputs": [],
   "source": [
    "fashion_mnist = tf.keras.datasets.fashion_mnist\n",
    "\n",
    "\n",
    "(x_train, _), (x_test, _) = fashion_mnist.load_data() # No labels needed\n",
    "\n",
    "# Normalize and flatten the input\n",
    "x_train, x_test  = x_train / 255. , x_test / 255.\n",
    "x_train = x_train.reshape([x_train.shape[0], np.prod(x_train.shape[1:])])\n",
    "x_test = x_test.reshape([x_test.shape[0], np.prod(x_test.shape[1:])])"
   ]
  },
  {
   "cell_type": "code",
   "execution_count": 12,
   "metadata": {},
   "outputs": [],
   "source": [
    "image_dim = np.prod(x_train.shape[1:]) # 28 * 28\n",
    "encoding_dims = 32  # length of encoded items"
   ]
  },
  {
   "cell_type": "markdown",
   "metadata": {},
   "source": [
    "##### Construct encoder and autoencoder"
   ]
  },
  {
   "cell_type": "code",
   "execution_count": 17,
   "metadata": {},
   "outputs": [],
   "source": [
    "input_image = tf.keras.layers.Input(shape=(image_dim, ))\n",
    "encoded_img = tf.keras.layers.Dense(units=encoding_dims, activation='relu',\n",
    "                                   activity_regularizer=tf.keras.regularizers.l2(1e-4),\n",
    "                                   )(input_image)\n",
    "encoder = tf.keras.models.Model(input_image, encoded_img)\n",
    "\n",
    "# lossy recostruction of input (Decoding)\n",
    "decoded_img = tf.keras.layers.Dense(units=image_dim, activation='sigmoid')(encoded_img)\n",
    "auto_encoder = tf.keras.models.Model(input_image, decoded_img)"
   ]
  },
  {
   "cell_type": "markdown",
   "metadata": {},
   "source": [
    "- [X] The autoencoder maps an input image to its reconstruction"
   ]
  },
  {
   "cell_type": "markdown",
   "metadata": {},
   "source": [
    "##### Construct the decoder"
   ]
  },
  {
   "cell_type": "code",
   "execution_count": 18,
   "metadata": {},
   "outputs": [],
   "source": [
    "encoded_input = tf.keras.layers.Input(shape=(encoding_dims, ))\n",
    "decoding_layer = auto_encoder.layers[-1] # last autoencoder layer\n",
    "decoder = tf.keras.models.Model(encoded_input, decoding_layer(encoded_input))"
   ]
  },
  {
   "cell_type": "markdown",
   "metadata": {},
   "source": [
    "##### compile the autoencoder"
   ]
  },
  {
   "cell_type": "code",
   "execution_count": 21,
   "metadata": {},
   "outputs": [],
   "source": [
    "auto_encoder.compile(optimizer='adadelta', loss='binary_crossentropy')\n",
    "\n"
   ]
  },
  {
   "cell_type": "code",
   "execution_count": null,
   "metadata": {},
   "outputs": [],
   "source": []
  }
 ],
 "metadata": {
  "kernelspec": {
   "display_name": "tfs",
   "language": "python",
   "name": "tfs"
  },
  "language_info": {
   "codemirror_mode": {
    "name": "ipython",
    "version": 3
   },
   "file_extension": ".py",
   "mimetype": "text/x-python",
   "name": "python",
   "nbconvert_exporter": "python",
   "pygments_lexer": "ipython3",
   "version": "3.7.4"
  }
 },
 "nbformat": 4,
 "nbformat_minor": 2
}
